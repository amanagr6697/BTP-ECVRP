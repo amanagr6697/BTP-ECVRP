{
 "cells": [
  {
   "cell_type": "code",
   "execution_count": 81,
   "metadata": {},
   "outputs": [
    {
     "name": "stdout",
     "output_type": "stream",
     "text": [
      "Requirement already satisfied: gurobipy in c:\\users\\agraw\\appdata\\local\\programs\\python\\python39\\lib\\site-packages (10.0.3)\n",
      "Note: you may need to restart the kernel to use updated packages.\n"
     ]
    }
   ],
   "source": [
    "%pip install gurobipy\n",
    "import numpy as np\n",
    "import matplotlib.pyplot as plt"
   ]
  },
  {
   "cell_type": "code",
   "execution_count": 82,
   "metadata": {},
   "outputs": [],
   "source": [
    "rnd = np.random\n",
    "rnd.seed(51)"
   ]
  },
  {
   "cell_type": "code",
   "execution_count": 83,
   "metadata": {},
   "outputs": [
    {
     "name": "stdout",
     "output_type": "stream",
     "text": [
      "[  8.94243644 128.8039454   56.84259975 189.86756133  31.53403375\n",
      "  77.59459248  97.55915826  43.63651224 129.34910884  49.96628183\n",
      "   9.5451566    8.94243644]\n",
      "[29.22017587  6.02748056 75.46383918 72.87108304 56.47609387 71.41213954\n",
      " 63.91391136 86.94905599 34.99918982 30.78997273 37.21481787 29.22017587]\n",
      "Remaining xc: [  8.94243644 128.8039454   56.84259975 189.86756133  31.53403375\n",
      "  77.59459248  97.55915826  43.63651224 129.34910884  49.96628183\n",
      "   9.5451566    8.94243644 135.1462831  135.1462831  135.1462831\n",
      "  82.04959722  82.04959722  82.04959722  68.66073451  68.66073451\n",
      "  68.66073451 117.99873529 117.99873529 117.99873529  34.8686772\n",
      "  34.8686772   34.8686772 ]\n",
      "Remaining yc: [29.22017587  6.02748056 75.46383918 72.87108304 56.47609387 71.41213954\n",
      " 63.91391136 86.94905599 34.99918982 30.78997273 37.21481787 29.22017587\n",
      " 32.3548296  32.3548296  32.3548296  60.3723935  60.3723935  60.3723935\n",
      " 44.54105029 44.54105029 44.54105029 58.23560806 58.23560806 58.23560806\n",
      " 79.51987286 79.51987286 79.51987286]\n"
     ]
    }
   ],
   "source": [
    "n = 10  # number of clients\n",
    "f = 5  # number of charging stations\n",
    "num_points = n + f + 1\n",
    "\n",
    "# Generate random coordinates for xc and yc\n",
    "xc = np.random.rand(num_points) * 200\n",
    "yc = np.random.rand(num_points) * 100\n",
    "\n",
    "# Randomly select f points from the generated points\n",
    "selected_indices = np.random.choice(num_points, f, replace=False)\n",
    "selected_xc = xc[selected_indices]\n",
    "selected_yc = yc[selected_indices]\n",
    "\n",
    "# Remove the selected points from xc and yc\n",
    "xc = np.delete(xc, selected_indices)\n",
    "yc = np.delete(yc, selected_indices)\n",
    "xc=np.append(xc,xc[0])\n",
    "yc=np.append(yc,yc[0])\n",
    "\n",
    "print(xc)\n",
    "print(yc)\n",
    "num_of_copies = 3\n",
    "# Append copies of each selected point after the first n points\n",
    "for i in range(f):\n",
    "    for _ in range(num_of_copies):\n",
    "        xc = np.append(xc, selected_xc[i])\n",
    "        yc = np.append(yc, selected_yc[i])\n",
    "print(\"Remaining xc:\", xc)\n",
    "print(\"Remaining yc:\", yc)"
   ]
  },
  {
   "cell_type": "code",
   "execution_count": 84,
   "metadata": {},
   "outputs": [
    {
     "name": "stdout",
     "output_type": "stream",
     "text": [
      "27\n"
     ]
    },
    {
     "data": {
      "image/png": "[encoded data removed]",
      "text/plain": [
       "<Figure size 640x480 with 1 Axes>"
      ]
     },
     "metadata": {},
     "output_type": "display_data"
    }
   ],
   "source": [
    "plt.plot(xc[0], yc[0], c='r', marker='s')\n",
    "plt.scatter(xc[1:], yc[1:], c='b')\n",
    "print(len(xc))"
   ]
  },
  {
   "cell_type": "code",
   "execution_count": 85,
   "metadata": {},
   "outputs": [
    {
     "name": "stdout",
     "output_type": "stream",
     "text": [
      "[1, 2, 3, 4, 5, 6, 7, 8, 9, 10, 12, 13, 14, 15, 16, 17, 18, 19, 20, 21, 22, 23, 24, 25, 26, 11]\n",
      "[1, 2, 3, 4, 5, 6, 7, 8, 9, 10]\n",
      "[12, 13, 14, 15, 16, 17, 18, 19, 20, 21, 22, 23, 24, 25, 26]\n",
      "[1, 2, 3, 4, 5, 6, 7, 8, 9, 10, 12, 13, 14, 15, 16, 17, 18, 19, 20, 21, 22, 23, 24, 25, 26]\n",
      "{1: 5, 2: 2, 3: 9, 4: 4, 5: 8, 6: 4, 7: 4, 8: 5, 9: 5, 10: 5, 12: 1, 13: 1, 14: 4, 15: 8, 16: 6, 17: 5, 18: 5, 19: 7, 20: 8, 21: 9, 22: 1, 23: 5, 24: 6, 25: 5, 26: 3}\n",
      "{1: 5, 2: 2, 3: 9, 4: 4, 5: 8, 6: 4, 7: 4, 8: 5, 9: 5, 10: 5, 12: 0, 13: 0, 14: 0, 15: 0, 16: 0, 17: 0, 18: 0, 19: 0, 20: 0, 21: 0, 22: 0, 23: 0, 24: 0, 25: 0, 26: 0, 0: 0, 11: 0}\n",
      "10236.400251196\n",
      "11\n"
     ]
    }
   ],
   "source": [
    "I = [i for i in range(1, n+1)] #Number of nodes/locations\n",
    "F = [i for i in range(n+2,n+2+num_of_copies*f)]\n",
    "N = I + F\n",
    "F_depo = [0] + F\n",
    "I_depo = [0] + N\n",
    "I_dest = N + [n+1]\n",
    "I_depo_dest = N + [0] + [n+1]\n",
    "print(I_dest)\n",
    "A = [(i, j) for i in I_depo for j in I_dest if i != j] #every possible combination of i and j\n",
    "c = {(i, j): np.hypot(xc[i]-xc[j], yc[i]-yc[j]) for i, j in A} #Calculating cost values\n",
    "C = 15                #Max capacity\n",
    "q = {i: rnd.randint(1, 10) for i in N} #Alloting random values for demand to be fulfilled\n",
    "# for _ in range()\n",
    "Q = 500\n",
    "H = 50 #Const discharging rate\n",
    "max_value = max(c.values())\n",
    "Q = H*1.1*max_value\n",
    "print(I)\n",
    "print(F)\n",
    "print(N)\n",
    "print(q)\n",
    "q[0]=0\n",
    "for i in range(n+1,n+2+num_of_copies*f):\n",
    "    q[i] = 0\n",
    "print(q)\n",
    "print(Q)\n",
    "Q=8000\n",
    "print(n+1)"
   ]
  },
  {
   "cell_type": "code",
   "execution_count": 86,
   "metadata": {},
   "outputs": [
    {
     "name": "stdout",
     "output_type": "stream",
     "text": [
      "Set parameter MIPGap to value 0.1\n",
      "Set parameter TimeLimit to value 50\n",
      "Gurobi Optimizer version 10.0.3 build v10.0.3rc0 (win64)\n",
      "\n",
      "CPU model: Intel(R) Core(TM) i7-6500U CPU @ 2.50GHz, instruction set [SSE2|AVX|AVX2]\n",
      "Thread count: 2 physical cores, 4 logical processors, using up to 4 threads\n",
      "\n",
      "Optimize a model with 1354 rows, 705 columns and 5351 nonzeros\n",
      "Model fingerprint: 0x1a3afa45\n",
      "Variable types: 54 continuous, 651 integer (651 binary)\n",
      "Coefficient statistics:\n",
      "  Matrix range     [1e+00, 2e+04]\n",
      "  Objective range  [6e+00, 2e+02]\n",
      "  Bounds range     [1e+00, 8e+03]\n",
      "  RHS range        [1e+00, 8e+03]\n",
      "Presolve removed 637 rows and 54 columns\n",
      "Presolve time: 0.04s\n",
      "Presolved: 717 rows, 651 columns, 3808 nonzeros\n",
      "Variable types: 35 continuous, 616 integer (616 binary)\n",
      "\n",
      "Root relaxation: objective 3.608937e+02, 72 iterations, 0.00 seconds (0.00 work units)\n",
      "\n",
      "    Nodes    |    Current Node    |     Objective Bounds      |     Work\n",
      " Expl Unexpl |  Obj  Depth IntInf | Incumbent    BestBd   Gap | It/Node Time\n",
      "\n",
      "     0     0  360.89375    0   26          -  360.89375      -     -    0s\n",
      "H    0     0                    1538.4980826  360.89375  76.5%     -    0s\n",
      "H    0     0                    1425.1111707  360.89375  74.7%     -    0s\n",
      "H    0     0                    1407.4577395  360.89375  74.4%     -    0s\n",
      "     0     0  373.81776    0   42 1407.45774  373.81776  73.4%     -    0s\n",
      "     0     0  375.24023    0   29 1407.45774  375.24023  73.3%     -    0s\n",
      "H    0     0                    1355.6997657  375.24023  72.3%     -    0s\n",
      "H    0     0                    1327.5233357  375.24023  71.7%     -    0s\n",
      "     0     0  377.04390    0   30 1327.52334  377.04390  71.6%     -    0s\n",
      "H    0     0                    1319.7186525  377.04390  71.4%     -    0s\n",
      "H    0     0                    1178.4027978  377.04390  68.0%     -    0s\n",
      "     0     0  386.74791    0   31 1178.40280  386.74791  67.2%     -    0s\n",
      "     0     0  389.86943    0   26 1178.40280  389.86943  66.9%     -    0s\n",
      "     0     0  390.88494    0   25 1178.40280  390.88494  66.8%     -    0s\n",
      "     0     0  390.88494    0   25 1178.40280  390.88494  66.8%     -    0s\n",
      "     0     0  390.88494    0   27 1178.40280  390.88494  66.8%     -    0s\n",
      "H    0     0                    1147.5395588  390.88494  65.9%     -    0s\n",
      "     0     0  390.88494    0   27 1147.53956  390.88494  65.9%     -    0s\n",
      "     0     0  390.94343    0   33 1147.53956  390.94343  65.9%     -    0s\n",
      "H    0     0                    1065.5370739  390.94343  63.3%     -    0s\n",
      "H    0     0                    1057.3944230  390.94343  63.0%     -    0s\n",
      "     0     0  390.95679    0   33 1057.39442  390.95679  63.0%     -    0s\n",
      "     0     0  390.95679    0   33 1057.39442  390.95679  63.0%     -    0s\n",
      "     0     0  390.96466    0   35 1057.39442  390.96466  63.0%     -    0s\n",
      "     0     0  390.96466    0   28 1057.39442  390.96466  63.0%     -    0s\n",
      "H    0     0                    1049.2576859  391.66496  62.7%     -    0s\n",
      "     0     2  391.66496    0   28 1049.25769  391.66496  62.7%     -    0s\n",
      "H  327   304                    1039.8586125  392.12363  62.3%  10.6    1s\n",
      "H  450   413                    1021.9092738  392.12363  61.6%  10.5    1s\n",
      "H  541   485                    1020.8422821  392.63327  61.5%  10.6    1s\n",
      "H  774   634                    1018.6758874  392.63327  61.5%  10.5    1s\n",
      "H  779   605                    1000.5890689  392.63327  60.8%  10.4    2s\n",
      "   987   763  516.40666   40   29 1000.58907  392.87254  60.7%  14.9    5s\n",
      "H 1909  1214                    1000.0887326  394.13394  60.6%  16.1    7s\n",
      "  3669  2533  529.51439   28   22 1000.08873  401.55604  59.8%  16.1   10s\n",
      "  7555  5738  833.42743   69   18 1000.08873  409.09834  59.1%  16.1   15s\n",
      " 11300  8871  422.17718   27   25 1000.08873  412.96084  58.7%  16.2   20s\n",
      " 14576 11592  422.94840   32   29 1000.08873  416.88589  58.3%  16.1   25s\n",
      "H15010 11658                     999.1648210  417.16926  58.2%  16.1   25s\n",
      "H15111 11829                     997.1772262  417.53868  58.1%  16.1   26s\n",
      "H15264 11819                     988.3732503  417.53868  57.8%  16.1   26s\n",
      "H15763 12414                     985.6276150  417.78247  57.6%  16.1   27s\n",
      "H15834 12396                     977.3879084  418.01274  57.2%  16.1   27s\n",
      "H16968 13477                     975.4003136  418.86450  57.1%  16.3   29s\n",
      " 17419 13879  892.91757   67   13  975.40031  418.86794  57.1%  16.4   30s\n",
      " 21070 16390  735.56292   54   28  975.40031  421.93763  56.7%  16.3   37s\n",
      " 21342 16582  607.48056   59   19  975.40031  421.93763  56.7%  16.5   40s\n",
      " 24156 18117  564.35182   51   24  975.40031  421.93763  56.7%  16.8   45s\n",
      "H26824 18643                     968.8062759  423.41676  56.3%  17.1   49s\n",
      " 27732 18936  894.72595   83   15  968.80628  424.60028  56.2%  17.2   50s\n",
      "\n",
      "Cutting planes:\n",
      "  Learned: 1\n",
      "  Gomory: 10\n",
      "  Cover: 15\n",
      "  Implied bound: 7\n",
      "  Projected implied bound: 11\n",
      "  Clique: 3\n",
      "  MIR: 14\n",
      "  StrongCG: 2\n",
      "  Flow cover: 81\n",
      "  GUB cover: 1\n",
      "  Zero half: 12\n",
      "  RLT: 8\n",
      "  Relax-and-lift: 10\n",
      "  BQP: 2\n",
      "\n",
      "Explored 27845 nodes (478473 simplex iterations) in 50.03 seconds (31.89 work units)\n",
      "Thread count was 4 (of 4 available processors)\n",
      "\n",
      "Solution count 10: 968.806 975.4 977.388 ... 1018.68\n",
      "\n",
      "Time limit reached\n",
      "Best objective 9.688062759433e+02, best bound 4.246002806882e+02, gap 56.1728%\n"
     ]
    }
   ],
   "source": [
    "from gurobipy import Model, GRB, quicksum\n",
    "\n",
    "model = Model('ECVRP')\n",
    "x = model.addVars(A, vtype=GRB.BINARY, name='x')\n",
    "u = model.addVars(I_depo_dest, vtype=GRB.CONTINUOUS,lb=0,ub=C, name='u')\n",
    "y = model.addVars(I_depo_dest, vtype=GRB.CONTINUOUS,lb=0, ub=Q, name='y')\n",
    "model.modelSense = GRB.MINIMIZE\n",
    "# u[0].setAttr(GRB.Attr.LB, C)\n",
    "# u[0].setAttr(GRB.Attr.UB, C)\n",
    "# y[0].setAttr(GRB.Attr.LB, Q)\n",
    "# y[0].setAttr(GRB.Attr.UB, Q)\n",
    "\n",
    "model.setObjective(quicksum(x[i, j]*c[i, j] for i, j in A))\n",
    "model.addConstrs((quicksum(x[i, j] for j in I_dest if i!=j) == 1 for i in I), name='outgoing')\n",
    "model.addConstrs((quicksum(x[i, j] for j in I_dest if i!=j) <= 1 for i in F), name='charging_outgoing')\n",
    "model.addConstrs((quicksum(x[i,j] for i in I_depo if i!=j)-quicksum(x[j,i] for i in I_dest if i!=j) == 0 for j in N), name='blockage')\n",
    "model.addConstrs((u[j]<=u[i]-q[i]*x[i,j]+ C*(1-x[i,j]) for i in I_depo for j in I_dest if i!=j), name='weight_transfer')\n",
    "# model.addConstrs((u[i]>=0 for i in I_dest), name='weight_lower_bound')\n",
    "# model.addConstrs((u[0]<=C), name='weight_upper_bound')\n",
    "model.addConstrs((y[j]<=y[i]-H*c[i,j]*x[i,j]+Q*(1-x[i,j]) for i in I for j in  I_dest if i!=j), name = 'charge_left')\n",
    "model.addConstrs((y[j]<=Q-H*c[i,j]*x[i,j] for i in F_depo for j in I_dest if i!=j), name='after leaving from charging station')\n",
    "# model.addConstrs((y[i]>=0 for i in I_dest), name='charge_lower_bound')\n",
    "# model.addConstrs((y[i]<=Q for i in N), name='charge_upper_bound')\n",
    "# model.addConstr(u[0]==C, name='Specifying_constant_weight')\n",
    "model.addConstr(y[0]==Q, name='Specifying_constant_charge')\n",
    "model.addConstr(u[0]==C, name='Specifying_constant_weight')\n",
    "model.Params.MIPGap = 0.1\n",
    "model.Params.TimeLimit = 50  # seconds\n",
    "model.optimize()\n",
    "# optimal path -  active paths\n"
   ]
  },
  {
   "cell_type": "code",
   "execution_count": null,
   "metadata": {},
   "outputs": [],
   "source": []
  },
  {
   "cell_type": "code",
   "execution_count": 87,
   "metadata": {},
   "outputs": [
    {
     "name": "stdout",
     "output_type": "stream",
     "text": [
      "1 = 9.999999999999996\n",
      "2 = 15.0\n",
      "3 = 15.0\n",
      "4 = 13.0\n",
      "5 = 13.0\n",
      "6 = 6.000000000000002\n",
      "7 = 9.0\n",
      "8 = 5.0\n",
      "9 = 5.0\n",
      "10 = 5.0\n",
      "12 = 0.0\n",
      "13 = 5.0\n",
      "14 = 0.0\n",
      "15 = 0.0\n",
      "16 = 0.0\n",
      "17 = 0.0\n",
      "18 = 0.0\n",
      "19 = 5.000000000000001\n",
      "20 = 3.0\n",
      "21 = 6.0\n",
      "22 = 0.0\n",
      "23 = 15.0\n",
      "24 = 0.0\n",
      "25 = 0.0\n",
      "26 = 0.0\n",
      "0 = 15.0\n",
      "11 = 0.0\n"
     ]
    }
   ],
   "source": [
    "for var_name in u:\n",
    "    u_var = model.getVarByName(f\"u[{var_name}]\")\n",
    "    print(f\"{var_name} = {u_var.X}\")"
   ]
  },
  {
   "cell_type": "code",
   "execution_count": 88,
   "metadata": {},
   "outputs": [
    {
     "name": "stdout",
     "output_type": "stream",
     "text": [
      "[  8.94243644 128.8039454   56.84259975 189.86756133  31.53403375\n",
      "  77.59459248  97.55915826  43.63651224 129.34910884  49.96628183\n",
      "   9.5451566    8.94243644 135.1462831  135.1462831  135.1462831\n",
      "  82.04959722  82.04959722  82.04959722  68.66073451  68.66073451\n",
      "  68.66073451 117.99873529 117.99873529 117.99873529  34.8686772\n",
      "  34.8686772   34.8686772 ]\n"
     ]
    }
   ],
   "source": [
    "print(xc)"
   ]
  },
  {
   "cell_type": "code",
   "execution_count": 89,
   "metadata": {},
   "outputs": [
    {
     "name": "stdout",
     "output_type": "stream",
     "text": [
      "1 = 1895.763265027581\n",
      "2 = 3448.9652427894025\n",
      "3 = 4332.805812380882\n",
      "4 = 6229.925612222248\n",
      "5 = 2391.773830920657\n",
      "6 = 4758.302919278947\n",
      "7 = 3415.710986095217\n",
      "8 = 6027.263840420768\n",
      "9 = 6839.639393186289\n",
      "10 = 400.86647501307925\n",
      "12 = 0.0\n",
      "13 = 0.0\n",
      "14 = 0.0\n",
      "15 = 0.0\n",
      "16 = 0.0\n",
      "17 = 0.0\n",
      "18 = 0.0\n",
      "19 = 0.0\n",
      "20 = 0.0\n",
      "21 = 0.0\n",
      "22 = 0.0\n",
      "23 = 0.0\n",
      "24 = 0.0\n",
      "25 = 0.0\n",
      "26 = 0.0\n",
      "0 = 8000.0\n",
      "11 = 0.0\n"
     ]
    }
   ],
   "source": [
    "for var_name in y:\n",
    "    y_var = model.getVarByName(f\"y[{var_name}]\")\n",
    "    print(f\"{var_name} = {y_var.X}\")"
   ]
  },
  {
   "cell_type": "code",
   "execution_count": 90,
   "metadata": {},
   "outputs": [
    {
     "name": "stdout",
     "output_type": "stream",
     "text": [
      "[(0, 1), (0, 2), (0, 4), (0, 23), (1, 13), (2, 5), (3, 21), (4, 7), (5, 19), (6, 11), (7, 10), (8, 11), (9, 11), (10, 11), (13, 8), (19, 9), (21, 6), (23, 3)]\n"
     ]
    },
    {
     "data": {
      "image/png": "[encoded data removed]",
      "text/plain": [
       "<Figure size 640x480 with 1 Axes>"
      ]
     },
     "metadata": {},
     "output_type": "display_data"
    },
    {
     "name": "stdout",
     "output_type": "stream",
     "text": [
      "4\n"
     ]
    }
   ],
   "source": [
    "active_arcs = [a for a in A if x[a].x > 0.99]\n",
    "\n",
    "print(active_arcs)\n",
    "plt.scatter(xc[1:n], yc[1:n], c = 'b')\n",
    "plt.scatter(xc[n+2:],yc[n+2:], c= 'black')\n",
    "plt.scatter(xc[0], yc[0], c='r')\n",
    "\n",
    "# plt.title('Optimal route with %s as max weight'%C, fontsize = 20)\n",
    "for i in I_depo_dest:\n",
    "    plt.annotate('$q_%d = %d$' % (i,q[i]), (xc[i]-5, yc[i]+5))\n",
    "    # plt.annotate('$q_%d = %d$' % (i,y[i]), (xc[i]-5, yc[i]+5))\n",
    "number_of_vehicles=0\n",
    "for i,j in active_arcs:\n",
    "    if(i==0):\n",
    "        number_of_vehicles+=1\n",
    "    plt.plot([xc[i],xc[j]], [yc[i], yc[j]], c = 'g')\n",
    "plt.show()\n",
    "print(number_of_vehicles)"
   ]
  }
 ],
 "metadata": {
  "kernelspec": {
   "display_name": "Python 3",
   "language": "python",
   "name": "python3"
  },
  "language_info": {
   "codemirror_mode": {
    "name": "ipython",
    "version": 3
   },
   "file_extension": ".py",
   "mimetype": "text/x-python",
   "name": "python",
   "nbconvert_exporter": "python",
   "pygments_lexer": "ipython3",
   "version": "3.9.8"
  }
 },
 "nbformat": 4,
 "nbformat_minor": 2
}
