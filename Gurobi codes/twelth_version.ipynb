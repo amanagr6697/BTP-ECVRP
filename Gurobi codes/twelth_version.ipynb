{
 "cells": [
  {
   "cell_type": "code",
   "execution_count": 23,
   "metadata": {},
   "outputs": [
    {
     "name": "stdout",
     "output_type": "stream",
     "text": [
      "Requirement already satisfied: gurobipy in c:\\users\\agraw\\appdata\\local\\programs\\python\\python39\\lib\\site-packages (10.0.3)\n",
      "Note: you may need to restart the kernel to use updated packages.\n"
     ]
    }
   ],
   "source": [
    "%pip install gurobipy\n",
    "import numpy as np\n",
    "import matplotlib.pyplot as plt"
   ]
  },
  {
   "cell_type": "code",
   "execution_count": 24,
   "metadata": {},
   "outputs": [],
   "source": [
    "rnd = np.random\n",
    "rnd.seed(51)"
   ]
  },
  {
   "cell_type": "code",
   "execution_count": 25,
   "metadata": {},
   "outputs": [],
   "source": [
    "n = 6  # number of clients\n",
    "f = 3  # number of charging stations\n",
    "num_points = n + f + 1\n",
    "\n",
    "# Generate random coordinates for xc and yc\n",
    "xc = np.random.rand(num_points) * 200\n",
    "yc = np.random.rand(num_points) * 100\n",
    "\n",
    "# Randomly select f points from the generated points\n",
    "selected_indices = np.random.choice(num_points, f, replace=False)\n",
    "selected_xc = xc[selected_indices]\n",
    "selected_yc = yc[selected_indices]\n",
    "\n",
    "# Remove the selected points from xc and yc\n",
    "xc = np.delete(xc, selected_indices)\n",
    "yc = np.delete(yc, selected_indices)\n",
    "xc=np.append(xc,xc[0])\n",
    "yc=np.append(yc,yc[0])\n",
    "\n",
    "# print(xc)\n",
    "# print(yc)\n",
    "num_of_copies = 2\n",
    "# Append copies of each selected point after the first n points\n",
    "for i in range(f):\n",
    "    for _ in range(num_of_copies):\n",
    "        xc = np.append(xc, selected_xc[i])\n",
    "        yc = np.append(yc, selected_yc[i])\n",
    "# print(\"Remaining xc:\", xc)\n",
    "# print(\"Remaining yc:\", yc)"
   ]
  },
  {
   "cell_type": "code",
   "execution_count": 26,
   "metadata": {},
   "outputs": [
    {
     "name": "stdout",
     "output_type": "stream",
     "text": [
      "14\n"
     ]
    },
    {
     "data": {
      "image/png": "[encoded data removed]",
      "text/plain": [
       "<Figure size 640x480 with 1 Axes>"
      ]
     },
     "metadata": {},
     "output_type": "display_data"
    }
   ],
   "source": [
    "plt.plot(xc[0], yc[0], c='r', marker='s')\n",
    "plt.scatter(xc[1:], yc[1:], c='b')\n",
    "print(len(xc))"
   ]
  },
  {
   "cell_type": "code",
   "execution_count": 27,
   "metadata": {},
   "outputs": [],
   "source": [
    "I = [i for i in range(1, n+1)] #Number of nodes/locations\n",
    "F = [i for i in range(n+2,n+2+num_of_copies*f)]\n",
    "N = I + F\n",
    "F_depo = [0] + F\n",
    "I_depo = [0] + N\n",
    "I_dest = N + [n+1]\n",
    "I_depo_dest = N + [0] + [n+1]\n",
    "# print(I_dest)\n",
    "num_of_vehicles = 5\n",
    "K = [i for i in range(1,num_of_vehicles+1)]\n",
    "A = [(i, j, k) for i in I_depo for j in I_dest for k in K if i != j] \n",
    "dist = [(i, j) for i in I_depo for j in I_dest if i != j] \n",
    "total_with_vehicles = [(i,k) for i in I_depo_dest for k in K]\n",
    "# print(\"aman\")\n",
    "# print(K)\n",
    "c = {(i, j): np.hypot(xc[i]-xc[j], yc[i]-yc[j]) for i, j in dist} \n",
    "\n",
    "lb = 14\n",
    "ub = 20\n",
    "C = {k: rnd.randint(lb, ub) for k in K}\n",
    "\n",
    "S = 0.2  \n",
    "thresholds = [50, 100, 150, 200]\n",
    "multipliers = [1.0, 1.19, 1.29, 1.39, 1.49]\n",
    "velocities = [20,30,40,50]\n",
    "ranges=4\n",
    "t = {}\n",
    "\n",
    "for i, j, k in A:\n",
    "    avg_value = c[i,j]\n",
    "    if(c[i,j]<thresholds[0]):\n",
    "        for k in K:\n",
    "                t[i, j, k] = C[k] *S* multipliers[0]*c[i,j]\n",
    "    elif(c[i,j]<=200):\n",
    "         for x in range(0,ranges-1):\n",
    "              if(c[i,j]>=thresholds[x] and c[i,j]<=thresholds[x+1]):\n",
    "                           for k in K:\n",
    "                               t[i, j, k] = C[k] *S* multipliers[x+1]*c[i,j]\n",
    "    else:\n",
    "         for k in K:\n",
    "                t[i, j, k] = C[k] *S* multipliers[ranges-1]*c[i,j]\n",
    "\n",
    "time_variables = [(i,k) for i in F for k in K]\n",
    "q = {i: rnd.randint(1, 10) for i in N}\n",
    "# for _ in range()\n",
    "Q = 500\n",
    "H = 50 \n",
    "max_value = max(c.values())\n",
    "Q = H*1.1*max_value\n",
    "q[0]=0\n",
    "R = 2000 #per hour\n",
    "for i in range(n+1,n+2+num_of_copies*f):\n",
    "    q[i] = 0\n",
    "Q=10000\n",
    "max_dist_limit = 290\n",
    "max_time_limit = 1000"
   ]
  },
  {
   "cell_type": "code",
   "execution_count": 28,
   "metadata": {},
   "outputs": [
    {
     "name": "stdout",
     "output_type": "stream",
     "text": [
      "Set parameter MIPGap to value 0.1\n",
      "Set parameter TimeLimit to value 50\n",
      "Gurobi Optimizer version 10.0.3 build v10.0.3rc0 (win64)\n",
      "\n",
      "CPU model: Intel(R) Core(TM) i7-6500U CPU @ 2.50GHz, instruction set [SSE2|AVX|AVX2]\n",
      "Thread count: 2 physical cores, 4 logical processors, using up to 4 threads\n",
      "\n",
      "Optimize a model with 1737 rows, 1780 columns and 7790 nonzeros\n",
      "Model fingerprint: 0x0b7897c5\n",
      "Model has 785 quadratic objective terms\n",
      "Model has 785 quadratic constraints\n",
      "Variable types: 995 continuous, 785 integer (785 binary)\n",
      "Coefficient statistics:\n",
      "  Matrix range     [5e-02, 1e+03]\n",
      "  QMatrix range    [1e+01, 2e+02]\n",
      "  QLMatrix range   [1e+00, 1e+04]\n",
      "  Objective range  [5e+00, 2e+02]\n",
      "  QObjective range [2e+00, 2e+00]\n",
      "  Bounds range     [1e+00, 1e+04]\n",
      "  RHS range        [1e+00, 1e+04]\n",
      "  QRHS range       [1e+04, 1e+04]\n",
      "Presolve removed 298 rows and 273 columns\n",
      "Presolve time: 0.09s\n",
      "Presolved: 3377 rows, 2799 columns, 16260 nonzeros\n",
      "Variable types: 2028 continuous, 771 integer (736 binary)\n",
      "\n",
      "Root relaxation: objective 2.588166e+02, 98 iterations, 0.02 seconds (0.00 work units)\n",
      "\n",
      "    Nodes    |    Current Node    |     Objective Bounds      |     Work\n",
      " Expl Unexpl |  Obj  Depth IntInf | Incumbent    BestBd   Gap | It/Node Time\n",
      "\n",
      "     0     0  258.81664    0   14          -  258.81664      -     -    0s\n",
      "     0     0  258.81664    0   14          -  258.81664      -     -    0s\n",
      "     0     0  258.81664    0   14          -  258.81664      -     -    0s\n",
      "     0     0  268.57025    0   12          -  268.57025      -     -    0s\n",
      "     0     0  268.57025    0   14          -  268.57025      -     -    0s\n",
      "     0     0  277.25047    0   16          -  277.25047      -     -    0s\n",
      "     0     0  278.59152    0   20          -  278.59152      -     -    0s\n",
      "     0     0  278.59152    0   20          -  278.59152      -     -    0s\n",
      "     0     0  336.86055    0   20          -  336.86055      -     -    0s\n",
      "     0     0 1085.45511    0   21          - 1085.45511      -     -    0s\n",
      "     0     0 1085.45511    0   21          - 1085.45511      -     -    0s\n",
      "     0     0 1122.06751    0   20          - 1122.06751      -     -    0s\n",
      "     0     0 1171.08884    0   21          - 1171.08884      -     -    0s\n",
      "     0     0 1171.08884    0   21          - 1171.08884      -     -    0s\n",
      "     0     0 1261.03249    0   28          - 1261.03249      -     -    0s\n",
      "     0     0 1261.03249    0   28          - 1261.03249      -     -    0s\n",
      "H    0     0                    21432.314859 1261.03249  94.1%     -    1s\n",
      "     0     2 1273.98382    0   28 21432.3149 1273.98382  94.1%     -    1s\n",
      "   803   561 5580.70245   94   48 21432.3149 3575.05313  83.3%  16.5    5s\n",
      "H 1020   576                    21049.236023 3633.68952  82.7%  27.2    6s\n",
      "H 1157   561                    18760.486251 3699.89702  80.3%  31.0    7s\n",
      "H 1206   535                    18566.991453 3699.89702  80.1%  32.2    7s\n",
      "H 1212   507                    18100.937605 3699.89702  79.6%  32.4    7s\n",
      "H 1274   474                    16519.504163 3755.55494  77.3%  32.4    8s\n",
      "  1408   494 4335.33875   31   26 16519.5042 3938.70375  76.2%  33.7   10s\n",
      "H 2290   571                    15226.666088 4452.59566  70.8%  37.2   12s\n",
      "  3122   881 5951.73265   43   19 15226.6661 4606.06546  69.8%  37.1   15s\n",
      "H 3456   914                    14623.304533 4742.31006  67.6%  37.5   15s\n",
      "H 3457   917                    14618.304533 4742.31006  67.6%  37.5   17s\n",
      "  4472  1177 infeasible   58      14618.3045 4914.38079  66.4%  36.9   20s\n",
      "  6955  1834 6238.12330   32   28 14618.3045 5415.94118  63.0%  36.9   25s\n",
      "  9371  2062 9732.10410   50   12 14618.3045 6157.77591  57.9%  35.7   30s\n",
      "H 9981  2049                    14431.950565 6455.76990  55.3%  35.5   30s\n",
      "H11342  2192                    14019.683167 7027.31719  49.9%  34.2   33s\n",
      "*11436  2177              63    13844.949992 7087.80667  48.8%  34.1   34s\n",
      " 12382  2288 12507.2716   67   12 13844.9500 7713.35522  44.3%  33.5   35s\n",
      " 16071  3108 infeasible   61      13844.9500 8456.32681  38.9%  30.5   40s\n",
      "\n",
      "Cutting planes:\n",
      "  Learned: 27\n",
      "  Gomory: 5\n",
      "  Lift-and-project: 7\n",
      "  Cover: 41\n",
      "  Implied bound: 493\n",
      "  Projected implied bound: 15\n",
      "  MIR: 36\n",
      "  Flow cover: 128\n",
      "  Inf proof: 6\n",
      "  Zero half: 9\n",
      "  Mod-K: 1\n",
      "  RLT: 97\n",
      "  Relax-and-lift: 10\n",
      "  BQP: 1\n",
      "\n",
      "Explored 20931 nodes (574091 simplex iterations) in 50.06 seconds (33.67 work units)\n",
      "Thread count was 4 (of 4 available processors)\n",
      "\n",
      "Solution count 10: 13844.9 14019.7 14432 ... 18760.5\n",
      "\n",
      "Time limit reached\n",
      "Best objective 1.384494999186e+04, best bound 8.943595262483e+03, gap 35.4018%\n"
     ]
    }
   ],
   "source": [
    "from gurobipy import Model, GRB, quicksum\n",
    "\n",
    "model = Model('ECVRP')\n",
    "x = model.addVars(A, vtype=GRB.BINARY, name='x')\n",
    "u = model.addVars(total_with_vehicles, vtype=GRB.CONTINUOUS,lb=0.0, name='u')\n",
    "y = model.addVars(total_with_vehicles, vtype=GRB.CONTINUOUS,lb=0.0, ub=Q, name='y')\n",
    "h = model.addVars(total_with_vehicles, vtype=GRB.CONTINUOUS, name='h')\n",
    "time = model.addVars(A,vtype=GRB.CONTINUOUS, lb=0.0, name='t')\n",
    "\n",
    "for i,k in u.keys():\n",
    "    u[i,k].ub = C[k]\n",
    "    u[i,k].lb = 0\n",
    "\n",
    "\n",
    "model.modelSense = GRB.MINIMIZE\n",
    "# u[0].setAttr(GRB.Attr.LB, C)\n",
    "# u[0].setAttr(GRB.Attr.UB, C)\n",
    "# y[0].setAttr(GRB.Attr.LB, Q)\n",
    "# y[0].setAttr(GRB.Attr.UB, Q)\n",
    "model.setObjective(quicksum(x[i, j, k]*(c[i, j]+time[i,j,k]) for i, j, k in A) + quicksum(x[i,j,k]*(Q/R) for i in I_depo for j in F if i!=j for k in K))\n",
    "model.addConstrs((quicksum(x[i, j, k] for k in K for j in I_dest if i!=j) == 1 for i in I), name='outgoing')\n",
    "model.addConstrs((quicksum(x[i, j, k] for k in K for j in I_dest if i!=j) <= 1 for i in F), name='charging_outgoing')\n",
    "model.addConstrs((quicksum(x[0, j, k] for j in N) <= 1 for k in K), name='charging_outgoing')\n",
    "model.addConstrs((quicksum(x[i, j, k] for i in I_depo if i!=j)-quicksum(x[j,i,k] for i in I_dest if i!=j) == 0 for j in N for k in K), name='blockage')\n",
    "model.addConstrs((u[j,k]<=u[i,k]-q[i]*x[i,j,k]+ C[k]*(1-x[i,j,k]) for i in I_depo for j in I_dest if i!=j for k in K), name='weight_transfer')\n",
    "model.addConstrs(quicksum(x[i,j,k]*c[i,j] for i in I_depo for j in I_dest if i!=j)<=max_dist_limit for k in K)\n",
    "model.addConstrs((quicksum(x[i,j,k]*t[i,j,k] for i in I_depo for j in I_dest if i!=j) + quicksum(x[i,j,k]*(Q/R) for i in I_depo for j in F if i!=j))<=max_time_limit for k in K)\n",
    "\n",
    "# model.addConstrs((u[i]>=0 for i in I_dest), name='weight_lower_bound')\n",
    "# model.addConstrs((u[0]<=C), name='weight_upper_bound')\n",
    "\n",
    "Temp = 323\n",
    "theta = 0.1\n",
    "H = H*0.8 + Temp*(theta)\n",
    "model.addConstrs(h[i,k] == H + u[i,k] / C[k] for i in I_depo_dest for k in K)\n",
    "model.addConstrs(time[i,j,k] == t[i,j,k]*u[i,k] for i in I_depo for j in I_dest if i!=j for k in K)\n",
    "model.addConstrs((y[j,k]<=y[i,k]-h[i,k]*c[i,j]*x[i,j,k]+Q*(1-x[i,j,k]) for i in I for j in  I_dest  if i!=j for k in K), name = 'charge_left')\n",
    "model.addConstrs((y[j,k]<=Q-h[i,k]*c[i,j]*x[i,j,k] for i in F_depo for j in I_dest  if i!=j for k in K), name='after leaving from charging station')\n",
    "# model.addConstrs((y[i]>=0 for i in I_dest), name='charge_lower_bound')\n",
    "# model.addConstrs((y[i]<=Q for i in N), name='charge_upper_bound')\n",
    "# model.addConstr(u[0]==C, name='Specifying_constant_weight')\n",
    "model.addConstrs((u[0,k]==C[k] for k in K), name='Specifying_constant_weight')\n",
    "model.addConstrs((y[0,k]==Q for k in K), name='Specifying_constant_charge')\n",
    "model.Params.MIPGap = 0.1\n",
    "model.Params.TimeLimit = 50  # seconds\n",
    "model.optimize()\n",
    "# optimal path -  active paths\n"
   ]
  },
  {
   "cell_type": "code",
   "execution_count": 29,
   "metadata": {},
   "outputs": [
    {
     "name": "stdout",
     "output_type": "stream",
     "text": [
      "Warning: Q constraint name \"after leaving from charging station[0,1,1]\" has a space\n"
     ]
    }
   ],
   "source": [
    "# model.computeIIS()\n",
    "model.write(\"model10.lp\")"
   ]
  },
  {
   "cell_type": "code",
   "execution_count": 30,
   "metadata": {},
   "outputs": [],
   "source": [
    "# for var_name in u:\n",
    "#     u_var = u[var_name]\n",
    "#     print(f\"{var_name} = {u_var.X}\")"
   ]
  },
  {
   "cell_type": "code",
   "execution_count": 31,
   "metadata": {},
   "outputs": [],
   "source": [
    "# for var_name in h:\n",
    "#     h_var = h[var_name]\n",
    "#     print(f\"{var_name} = {h_var.X}\")"
   ]
  },
  {
   "cell_type": "code",
   "execution_count": 32,
   "metadata": {},
   "outputs": [],
   "source": [
    "# for var_name in y:\n",
    "#     y_var = y[var_name]\n",
    "#     print(f\"{var_name} = {y_var.X}\")"
   ]
  },
  {
   "cell_type": "code",
   "execution_count": 33,
   "metadata": {},
   "outputs": [
    {
     "data": {
      "image/png": "[encoded data removed]",
      "text/plain": [
       "<Figure size 640x480 with 1 Axes>"
      ]
     },
     "metadata": {},
     "output_type": "display_data"
    }
   ],
   "source": [
    "active_arcs = [a for a in A if x[a].x > 0.99]\n",
    "\n",
    "# print(active_arcs)\n",
    "plt.scatter(xc[1:n], yc[1:n], c = 'b')\n",
    "plt.scatter(xc[n+2:],yc[n+2:], c= 'black')\n",
    "plt.scatter(xc[0], yc[0], c='r')\n",
    "\n",
    "# plt.title('Optimal route with %s as max weight'%C, fontsize = 20)\n",
    "for i in I_depo_dest:\n",
    "    plt.annotate('$q_%d = %d$' % (i,q[i]), (xc[i]-5, yc[i]+5))\n",
    "    # plt.annotate('$q_%d = %d$' % (i,y[i]), (xc[i]-5, yc[i]+5))\n",
    "# number_of_vehicles=0\n",
    "# for i,j,k in active_arcs:\n",
    "#     if(i==0):\n",
    "#        plt.plot([xc[i],xc[j]], [yc[i], yc[j]], c = 'g')\n",
    "plt.show()\n",
    "# print(number_of_vehicles)"
   ]
  },
  {
   "cell_type": "code",
   "execution_count": 37,
   "metadata": {},
   "outputs": [
    {
     "name": "stdout",
     "output_type": "stream",
     "text": [
      "275.81299524522433\n",
      "151.6231992371268\n",
      "188.75571688531423\n",
      "913.7636482195693\n",
      "529.8850807092049\n",
      "684.0051830395992\n"
     ]
    }
   ],
   "source": [
    "values = {}\n",
    "vehicle_dist={}\n",
    "vehicle_time={}\n",
    "for i,j,k in active_arcs:\n",
    "    if(k not in vehicle_dist):\n",
    "      vehicle_dist[k] = c[i,j]\n",
    "      vehicle_time[k] = t[i,j,k]\n",
    "    else:\n",
    "         vehicle_dist[k]+=c[i,j]\n",
    "         vehicle_time[k]+=t[i,j,k]\n",
    "\n",
    "    if i!=0:\n",
    "        values[i]=(j,k)\n",
    "for i in vehicle_dist.values():\n",
    "     print(i)\n",
    "\n",
    "for i in vehicle_time.values():\n",
    "     print(i)\n",
    "colors = ['magenta', 'green', 'red', 'yellow', 'cyan']\n",
    "def rec(i, j,k,col):\n",
    "     #    print((i,j,k))\n",
    "        plt.plot([xc[i],xc[j]], [yc[i], yc[j]], c = colors[col])\n",
    "        if(j==n+1):\n",
    "             return\n",
    "     #    print(\"aman\")\n",
    "     #    print(values[j][0])\n",
    "        rec(j,values[j][0],values[j][1],col)\n"
   ]
  },
  {
   "cell_type": "code",
   "execution_count": 35,
   "metadata": {},
   "outputs": [
    {
     "data": {
      "image/png": "[encoded data removed]",
      "text/plain": [
       "<Figure size 640x480 with 1 Axes>"
      ]
     },
     "metadata": {},
     "output_type": "display_data"
    }
   ],
   "source": [
    "active_arcs = [a for a in A if x[a].x > 0.99]\n",
    "\n",
    "# print(active_arcs)\n",
    "plt.scatter(xc[1:n], yc[1:n], c = 'b')\n",
    "plt.scatter(xc[n+2:],yc[n+2:], c= 'black')\n",
    "plt.scatter(xc[0], yc[0], c='r')\n",
    "\n",
    "# plt.title('Optimal route with %s as max weight'%C, fontsize = 20)\n",
    "visited = []\n",
    "for i in I:\n",
    "    if(xc[i] not in visited):\n",
    "      plt.annotate('$q_%d = %d$' % (i,q[i]), (xc[i]-2, yc[i]+2))\n",
    "      visited.append(xc[i])\n",
    "    # plt.annotate('$q_%d = %d$' % (i,y[i]), (xc[i]-5, yc[i]+5))\n",
    "# import random\n",
    "\n",
    "# number_of_vehicles=0\n",
    "col=0\n",
    "# print(type(active_arcs))\n",
    "for i,j,k in active_arcs:\n",
    "    if(i==0):\n",
    "        rec(i,j,k,col)\n",
    "        col+=1\n",
    "plt.show()\n",
    "# print(number_of_vehicles)"
   ]
  }
 ],
 "metadata": {
  "kernelspec": {
   "display_name": "Python 3",
   "language": "python",
   "name": "python3"
  },
  "language_info": {
   "codemirror_mode": {
    "name": "ipython",
    "version": 3
   },
   "file_extension": ".py",
   "mimetype": "text/x-python",
   "name": "python",
   "nbconvert_exporter": "python",
   "pygments_lexer": "ipython3",
   "version": "3.9.8"
  }
 },
 "nbformat": 4,
 "nbformat_minor": 2
}
