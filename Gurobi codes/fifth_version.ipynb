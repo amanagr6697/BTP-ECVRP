{
 "cells": [
  {
   "cell_type": "code",
   "execution_count": 45,
   "metadata": {},
   "outputs": [
    {
     "name": "stdout",
     "output_type": "stream",
     "text": [
      "Requirement already satisfied: gurobipy in c:\\users\\agraw\\appdata\\local\\programs\\python\\python39\\lib\\site-packages (10.0.3)\n",
      "Note: you may need to restart the kernel to use updated packages.\n"
     ]
    }
   ],
   "source": [
    "%pip install gurobipy\n",
    "import numpy as np\n",
    "import matplotlib.pyplot as plt"
   ]
  },
  {
   "cell_type": "code",
   "execution_count": 46,
   "metadata": {},
   "outputs": [],
   "source": [
    "rnd = np.random\n",
    "rnd.seed(51)"
   ]
  },
  {
   "cell_type": "code",
   "execution_count": 47,
   "metadata": {},
   "outputs": [
    {
     "name": "stdout",
     "output_type": "stream",
     "text": [
      "[135.1462831    8.94243644  68.66073451 189.86756133  31.53403375\n",
      "  77.59459248 135.1462831 ]\n",
      "[58.99936765 48.77957913 17.4343386  24.98314091 41.02479861  4.7725783\n",
      " 58.99936765]\n",
      "Remaining xc: [135.1462831    8.94243644  68.66073451 189.86756133  31.53403375\n",
      "  77.59459248 135.1462831  128.8039454  128.8039454   56.84259975\n",
      "  56.84259975]\n",
      "Remaining yc: [58.99936765 48.77957913 17.4343386  24.98314091 41.02479861  4.7725783\n",
      " 58.99936765 21.81825612 21.81825612 64.67455442 64.67455442]\n"
     ]
    }
   ],
   "source": [
    "n = 5  # number of clients\n",
    "f = 2  # number of charging stations\n",
    "num_points = n + f + 1\n",
    "\n",
    "# Generate random coordinates for xc and yc\n",
    "xc = np.random.rand(num_points) * 200\n",
    "yc = np.random.rand(num_points) * 100\n",
    "\n",
    "# Randomly select f points from the generated points\n",
    "selected_indices = np.random.choice(num_points, f, replace=False)\n",
    "selected_xc = xc[selected_indices]\n",
    "selected_yc = yc[selected_indices]\n",
    "\n",
    "# Remove the selected points from xc and yc\n",
    "xc = np.delete(xc, selected_indices)\n",
    "yc = np.delete(yc, selected_indices)\n",
    "xc=np.append(xc,xc[0])\n",
    "yc=np.append(yc,yc[0])\n",
    "\n",
    "print(xc)\n",
    "print(yc)\n",
    "num_of_copies = 2\n",
    "# Append copies of each selected point after the first n points\n",
    "for i in range(f):\n",
    "    for _ in range(num_of_copies):\n",
    "        xc = np.append(xc, selected_xc[i])\n",
    "        yc = np.append(yc, selected_yc[i])\n",
    "print(\"Remaining xc:\", xc)\n",
    "print(\"Remaining yc:\", yc)"
   ]
  },
  {
   "cell_type": "code",
   "execution_count": 48,
   "metadata": {},
   "outputs": [
    {
     "name": "stdout",
     "output_type": "stream",
     "text": [
      "11\n"
     ]
    },
    {
     "data": {
      "image/png": "[encoded data removed]",
      "text/plain": [
       "<Figure size 640x480 with 1 Axes>"
      ]
     },
     "metadata": {},
     "output_type": "display_data"
    }
   ],
   "source": [
    "plt.plot(xc[0], yc[0], c='r', marker='s')\n",
    "plt.scatter(xc[1:], yc[1:], c='b')\n",
    "print(len(xc))"
   ]
  },
  {
   "cell_type": "code",
   "execution_count": 49,
   "metadata": {},
   "outputs": [
    {
     "name": "stdout",
     "output_type": "stream",
     "text": [
      "[1, 2, 3, 4, 5, 7, 8, 9, 10, 6]\n",
      "aman\n",
      "[1, 2, 3, 4, 5]\n",
      "[1, 2, 3, 4, 5]\n",
      "[7, 8, 9, 10]\n",
      "[1, 2, 3, 4, 5, 7, 8, 9, 10]\n",
      "{1: 6, 2: 3, 3: 4, 4: 8, 5: 8, 7: 4, 8: 9, 9: 3, 10: 6}\n",
      "{1: 6, 2: 3, 3: 4, 4: 8, 5: 8, 7: 0, 8: 0, 9: 0, 10: 0, 0: 0, 6: 0}\n",
      "10036.583987911585\n",
      "6\n"
     ]
    }
   ],
   "source": [
    "I = [i for i in range(1, n+1)] #Number of nodes/locations\n",
    "F = [i for i in range(n+2,n+2+num_of_copies*f)]\n",
    "N = I + F\n",
    "F_depo = [0] + F\n",
    "I_depo = [0] + N\n",
    "I_dest = N + [n+1]\n",
    "I_depo_dest = N + [0] + [n+1]\n",
    "print(I_dest)\n",
    "num_of_vehicles = 5\n",
    "K = [i for i in range(1,num_of_vehicles+1)]\n",
    "A = [(i, j, k) for i in I_depo for j in I_dest for k in K if i != j] \n",
    "dist = [(i, j) for i in I_depo for j in I_dest if i != j] \n",
    "total_with_vehicles = [(i,k) for i in I_depo_dest for k in K]\n",
    "print(\"aman\")\n",
    "print(K)\n",
    "c = {(i, j): np.hypot(xc[i]-xc[j], yc[i]-yc[j]) for i, j in dist} \n",
    "C = 15                \n",
    "q = {i: rnd.randint(1, 10) for i in N}\n",
    "# for _ in range()\n",
    "Q = 500\n",
    "H = 50 \n",
    "max_value = max(c.values())\n",
    "Q = H*1.1*max_value\n",
    "print(I)\n",
    "print(F)\n",
    "print(N)\n",
    "print(q)\n",
    "q[0]=0\n",
    "for i in range(n+1,n+2+num_of_copies*f):\n",
    "    q[i] = 0\n",
    "print(q)\n",
    "print(Q)\n",
    "Q=10000\n",
    "print(n+1)"
   ]
  },
  {
   "cell_type": "code",
   "execution_count": 50,
   "metadata": {},
   "outputs": [
    {
     "name": "stdout",
     "output_type": "stream",
     "text": [
      "Set parameter MIPGap to value 0.1\n",
      "Set parameter TimeLimit to value 500\n",
      "Gurobi Optimizer version 10.0.3 build v10.0.3rc0 (win64)\n",
      "\n",
      "CPU model: Intel(R) Core(TM) i7-6500U CPU @ 2.50GHz, instruction set [SSE2|AVX|AVX2]\n",
      "Thread count: 2 physical cores, 4 logical processors, using up to 4 threads\n",
      "\n",
      "Optimize a model with 584 rows, 620 columns and 3175 nonzeros\n",
      "Model fingerprint: 0x02fef5d5\n",
      "Model has 455 quadratic constraints\n",
      "Variable types: 165 continuous, 455 integer (455 binary)\n",
      "Coefficient statistics:\n",
      "  Matrix range     [7e-02, 2e+02]\n",
      "  QMatrix range    [2e+01, 2e+02]\n",
      "  QLMatrix range   [1e+00, 1e+04]\n",
      "  Objective range  [2e+01, 2e+02]\n",
      "  Bounds range     [1e+00, 1e+04]\n",
      "  RHS range        [1e+00, 1e+04]\n",
      "  QRHS range       [1e+04, 1e+04]\n",
      "Presolve removed 140 rows and 125 columns\n",
      "Presolve time: 0.04s\n",
      "Presolved: 1114 rows, 830 columns, 5975 nonzeros\n",
      "Variable types: 405 continuous, 425 integer (400 binary)\n",
      "\n",
      "Root relaxation: objective 2.010547e+02, 50 iterations, 0.00 seconds (0.00 work units)\n",
      "\n",
      "    Nodes    |    Current Node    |     Objective Bounds      |     Work\n",
      " Expl Unexpl |  Obj  Depth IntInf | Incumbent    BestBd   Gap | It/Node Time\n",
      "\n",
      "     0     0  201.05466    0   11          -  201.05466      -     -    0s\n",
      "     0     0  201.05466    0   13          -  201.05466      -     -    0s\n",
      "     0     0  227.22282    0   16          -  227.22282      -     -    0s\n",
      "     0     0  229.03769    0   16          -  229.03769      -     -    0s\n",
      "     0     0  287.20633    0   14          -  287.20633      -     -    0s\n",
      "     0     0  287.20633    0   18          -  287.20633      -     -    0s\n",
      "H    0     0                     600.0825919  287.20633  52.1%     -    0s\n",
      "     0     0  287.20633    0   18  600.08259  287.20633  52.1%     -    0s\n",
      "     0     0  287.20633    0   14  600.08259  287.20633  52.1%     -    0s\n",
      "     0     0  287.20633    0   13  600.08259  287.20633  52.1%     -    0s\n",
      "     0     2  287.20633    0   11  600.08259  287.20633  52.1%     -    0s\n",
      "\n",
      "Cutting planes:\n",
      "  Learned: 5\n",
      "  Gomory: 1\n",
      "  Cover: 10\n",
      "  Implied bound: 100\n",
      "  MIR: 22\n",
      "  Inf proof: 1\n",
      "  RLT: 36\n",
      "  Relax-and-lift: 6\n",
      "\n",
      "Explored 1257 nodes (16254 simplex iterations) in 1.39 seconds (1.01 work units)\n",
      "Thread count was 4 (of 4 available processors)\n",
      "\n",
      "Solution count 1: 600.083 \n",
      "\n",
      "Optimal solution found (tolerance 1.00e-01)\n",
      "Best objective 6.000825919124e+02, best bound 5.448415876301e+02, gap 9.2056%\n"
     ]
    }
   ],
   "source": [
    "from gurobipy import Model, GRB, quicksum\n",
    "\n",
    "model = Model('ECVRP')\n",
    "x = model.addVars(A, vtype=GRB.BINARY, name='x')\n",
    "u = model.addVars(total_with_vehicles, vtype=GRB.CONTINUOUS,lb=0,ub=C, name='u')\n",
    "y = model.addVars(total_with_vehicles, vtype=GRB.CONTINUOUS,lb=0, ub=Q, name='y')\n",
    "h = model.addVars(total_with_vehicles, vtype=GRB.CONTINUOUS, name='h')\n",
    "\n",
    "# for i in I_depo_dest:\n",
    "#     h[i] = H + u[i] / C\n",
    "\n",
    "model.modelSense = GRB.MINIMIZE\n",
    "# u[0].setAttr(GRB.Attr.LB, C)\n",
    "# u[0].setAttr(GRB.Attr.UB, C)\n",
    "# y[0].setAttr(GRB.Attr.LB, Q)\n",
    "# y[0].setAttr(GRB.Attr.UB, Q)\n",
    "\n",
    "model.setObjective(quicksum(x[i, j, k]*c[i, j] for i, j, k in A))\n",
    "model.addConstrs((quicksum(x[i, j, k] for k in K for j in I_dest if i!=j) == 1 for i in I), name='outgoing')\n",
    "model.addConstrs((quicksum(x[i, j, k] for k in K for j in I_dest if i!=j) <= 1 for i in F), name='charging_outgoing')\n",
    "model.addConstrs((quicksum(x[0, j, k] for j in N) <= 1 for k in K), name='charging_outgoing')\n",
    "model.addConstrs((quicksum(x[i, j, k] for i in I_depo if i!=j)-quicksum(x[j,i,k] for i in I_dest if i!=j) == 0 for j in N for k in K), name='blockage')\n",
    "model.addConstrs((u[j,k]<=u[i,k]-q[i]*x[i,j,k]+ C*(1-x[i,j,k]) for i in I_depo for j in I_dest if i!=j for k in K), name='weight_transfer')\n",
    "model.addConstrs(quicksum(x[i,j,k]*c[i,j] for i in I_depo for j in I_dest if i!=j)<=290 for k in K)\n",
    "# model.addConstrs((u[i]>=0 for i in I_dest), name='weight_lower_bound')\n",
    "# model.addConstrs((u[0]<=C), name='weight_upper_bound')\n",
    "Temp = 323\n",
    "theta = 0.1\n",
    "H = H*0.8 + Temp*(theta)\n",
    "model.addConstrs(h[i,k] == H + u[i,k] / C for i in I_depo_dest for k in K)\n",
    "model.addConstrs((y[j,k]<=y[i,k]-h[i,k]*c[i,j]*x[i,j,k]+Q*(1-x[i,j,k]) for i in I for j in  I_dest  if i!=j for k in K), name = 'charge_left')\n",
    "model.addConstrs((y[j,k]<=Q-h[i,k]*c[i,j]*x[i,j,k] for i in F_depo for j in I_dest  if i!=j for k in K), name='after leaving from charging station')\n",
    "# model.addConstrs((y[i]>=0 for i in I_dest), name='charge_lower_bound')\n",
    "# model.addConstrs((y[i]<=Q for i in N), name='charge_upper_bound')\n",
    "# model.addConstr(u[0]==C, name='Specifying_constant_weight')\n",
    "model.addConstrs((u[0,k]==C for k in K), name='Specifying_constant_weight')\n",
    "model.addConstrs((y[0,k]==Q for k in K), name='Specifying_constant_charge')\n",
    "model.Params.MIPGap = 0.1\n",
    "model.Params.TimeLimit = 500  # seconds\n",
    "model.optimize()\n",
    "# optimal path -  active paths\n"
   ]
  },
  {
   "cell_type": "code",
   "execution_count": 51,
   "metadata": {},
   "outputs": [
    {
     "name": "stdout",
     "output_type": "stream",
     "text": [
      "Warning: Q constraint name \"after leaving from charging station[0,1,1]\" has a space\n"
     ]
    }
   ],
   "source": [
    "# model.computeIIS()\n",
    "model.write(\"model4.lp\")"
   ]
  },
  {
   "cell_type": "code",
   "execution_count": 52,
   "metadata": {},
   "outputs": [
    {
     "name": "stdout",
     "output_type": "stream",
     "text": [
      "(1, 1) = 15.0\n",
      "(1, 2) = 2.2737367544323206e-13\n",
      "(1, 3) = -2.2737367544323206e-13\n",
      "(1, 4) = 0.0\n",
      "(1, 5) = 13.999999999999318\n",
      "(2, 1) = 10.999999999999318\n",
      "(2, 2) = 14.999999999999545\n",
      "(2, 3) = 0.0\n",
      "(2, 4) = 0.0\n",
      "(2, 5) = 0.0\n",
      "(3, 1) = 0.0\n",
      "(3, 2) = 0.0\n",
      "(3, 3) = 0.0\n",
      "(3, 4) = 15.0\n",
      "(3, 5) = 15.0\n",
      "(4, 1) = 0.0\n",
      "(4, 2) = 4.547473508864641e-13\n",
      "(4, 3) = -2.2737367544323206e-13\n",
      "(4, 4) = 0.0\n",
      "(4, 5) = 7.999999999999773\n",
      "(5, 1) = 7.999999999999773\n",
      "(5, 2) = 14.999999999999545\n",
      "(5, 3) = 15.0\n",
      "(5, 4) = 0.0\n",
      "(5, 5) = 0.0\n",
      "(7, 1) = 10.999999999999318\n",
      "(7, 2) = 0.0\n",
      "(7, 3) = 0.0\n",
      "(7, 4) = 15.0\n",
      "(7, 5) = 0.0\n",
      "(8, 1) = 0.0\n",
      "(8, 2) = 0.0\n",
      "(8, 3) = 0.0\n",
      "(8, 4) = 0.0\n",
      "(8, 5) = 15.0\n",
      "(9, 1) = 0.0\n",
      "(9, 2) = 0.0\n",
      "(9, 3) = 0.0\n",
      "(9, 4) = 0.0\n",
      "(9, 5) = 13.999999999999318\n",
      "(10, 1) = 0.0\n",
      "(10, 2) = 0.0\n",
      "(10, 3) = 0.0\n",
      "(10, 4) = 0.0\n",
      "(10, 5) = 0.0\n",
      "(0, 1) = 15.0\n",
      "(0, 2) = 15.0\n",
      "(0, 3) = 15.0\n",
      "(0, 4) = 15.0\n",
      "(0, 5) = 15.0\n",
      "(6, 1) = 0.0\n",
      "(6, 2) = 0.0\n",
      "(6, 3) = 0.0\n",
      "(6, 4) = 0.0\n",
      "(6, 5) = 0.0\n"
     ]
    }
   ],
   "source": [
    "for var_name in u:\n",
    "    u_var = u[var_name]\n",
    "    print(f\"{var_name} = {u_var.X}\")"
   ]
  },
  {
   "cell_type": "code",
   "execution_count": 53,
   "metadata": {},
   "outputs": [
    {
     "name": "stdout",
     "output_type": "stream",
     "text": [
      "(1, 1) = 73.30000000000001\n",
      "(1, 2) = 72.30000000000003\n",
      "(1, 3) = 72.3\n",
      "(1, 4) = 72.30000000000001\n",
      "(1, 5) = 73.2333333333333\n",
      "(2, 1) = 73.0333333333333\n",
      "(2, 2) = 73.29999999999998\n",
      "(2, 3) = 72.30000000000001\n",
      "(2, 4) = 72.30000000000001\n",
      "(2, 5) = 72.30000000000001\n",
      "(3, 1) = 72.30000000000001\n",
      "(3, 2) = 72.30000000000001\n",
      "(3, 3) = 72.30000000000001\n",
      "(3, 4) = 73.30000000000001\n",
      "(3, 5) = 73.30000000000001\n",
      "(4, 1) = 72.30000000000001\n",
      "(4, 2) = 72.30000000000004\n",
      "(4, 3) = 72.3\n",
      "(4, 4) = 72.30000000000001\n",
      "(4, 5) = 72.83333333333333\n",
      "(5, 1) = 72.83333333333333\n",
      "(5, 2) = 73.29999999999998\n",
      "(5, 3) = 73.30000000000001\n",
      "(5, 4) = 72.30000000000001\n",
      "(5, 5) = 72.30000000000001\n",
      "(7, 1) = 73.0333333333333\n",
      "(7, 2) = 72.30000000000001\n",
      "(7, 3) = 72.30000000000001\n",
      "(7, 4) = 73.30000000000001\n",
      "(7, 5) = 72.30000000000001\n",
      "(8, 1) = 72.30000000000001\n",
      "(8, 2) = 72.30000000000001\n",
      "(8, 3) = 72.30000000000001\n",
      "(8, 4) = 72.30000000000001\n",
      "(8, 5) = 73.30000000000001\n",
      "(9, 1) = 72.30000000000001\n",
      "(9, 2) = 72.30000000000001\n",
      "(9, 3) = 72.30000000000001\n",
      "(9, 4) = 72.30000000000001\n",
      "(9, 5) = 73.2333333333333\n",
      "(10, 1) = 72.30000000000001\n",
      "(10, 2) = 72.30000000000001\n",
      "(10, 3) = 72.30000000000001\n",
      "(10, 4) = 72.30000000000001\n",
      "(10, 5) = 72.30000000000001\n",
      "(0, 1) = 73.30000000000001\n",
      "(0, 2) = 73.30000000000001\n",
      "(0, 3) = 73.30000000000001\n",
      "(0, 4) = 73.30000000000001\n",
      "(0, 5) = 73.30000000000001\n",
      "(6, 1) = 72.30000000000001\n",
      "(6, 2) = 72.30000000000001\n",
      "(6, 3) = 72.30000000000001\n",
      "(6, 4) = 72.30000000000001\n",
      "(6, 5) = 72.30000000000001\n"
     ]
    }
   ],
   "source": [
    "for var_name in h:\n",
    "    h_var = h[var_name]\n",
    "    print(f\"{var_name} = {h_var.X}\")"
   ]
  },
  {
   "cell_type": "code",
   "execution_count": 58,
   "metadata": {},
   "outputs": [
    {
     "name": "stdout",
     "output_type": "stream",
     "text": [
      "(1, 1) = 10000.0\n",
      "(1, 2) = 1.6572155166613048e-10\n",
      "(1, 3) = -1.295530946341946e-10\n",
      "(1, 4) = 0.0\n",
      "(1, 5) = 6304.018878993473\n",
      "(2, 1) = 5595.887407043883\n",
      "(2, 2) = 9999.999999999769\n",
      "(2, 3) = 10000.0\n",
      "(2, 4) = 0.0\n",
      "(2, 5) = 9984.503742635696\n",
      "(3, 1) = 4722.887981860649\n",
      "(3, 2) = 4722.887981860649\n",
      "(3, 3) = 4722.887981860649\n",
      "(3, 4) = 4722.887981860649\n",
      "(3, 5) = 4722.887981860649\n",
      "(4, 1) = 2.3235743363291318e-11\n",
      "(4, 2) = 9.371976778024644e-11\n",
      "(4, 3) = -4.6219532621876696e-11\n",
      "(4, 4) = 10000.0\n",
      "(4, 5) = 2522.846647661464\n",
      "(5, 1) = 3930.9445909433703\n",
      "(5, 2) = 1.2509722440203468e-10\n",
      "(5, 3) = 0.0\n",
      "(5, 4) = 0.0\n",
      "(5, 5) = -7.854742116115877e-11\n",
      "(7, 1) = 0.0\n",
      "(7, 2) = 0.0\n",
      "(7, 3) = 0.0\n",
      "(7, 4) = 0.0\n",
      "(7, 5) = 0.0\n",
      "(8, 1) = 0.0\n",
      "(8, 2) = 0.0\n",
      "(8, 3) = 0.0\n",
      "(8, 4) = 0.0\n",
      "(8, 5) = 0.0\n",
      "(9, 1) = 0.0\n",
      "(9, 2) = 0.0\n",
      "(9, 3) = 0.0\n",
      "(9, 4) = 0.0\n",
      "(9, 5) = 0.0\n",
      "(10, 1) = 0.0\n",
      "(10, 2) = 0.0\n",
      "(10, 3) = 0.0\n",
      "(10, 4) = 0.0\n",
      "(10, 5) = 0.0\n",
      "(0, 1) = 10000.0\n",
      "(0, 2) = 10000.0\n",
      "(0, 3) = 10000.0\n",
      "(0, 4) = 10000.0\n",
      "(0, 5) = 10000.0\n",
      "(6, 1) = 0.0\n",
      "(6, 2) = 0.0\n",
      "(6, 3) = 0.0\n",
      "(6, 4) = 0.0\n",
      "(6, 5) = 0.0\n"
     ]
    }
   ],
   "source": [
    "for var_name in y:\n",
    "    y_var = y[var_name]\n",
    "    print(f\"{var_name} = {y_var.X}\")"
   ]
  },
  {
   "cell_type": "code",
   "execution_count": 59,
   "metadata": {},
   "outputs": [
    {
     "name": "stdout",
     "output_type": "stream",
     "text": [
      "[(0, 3, 4), (0, 7, 1), (0, 9, 5), (1, 4, 5), (2, 5, 1), (3, 6, 4), (4, 10, 5), (5, 8, 1), (7, 2, 1), (8, 6, 1), (9, 1, 5), (10, 6, 5)]\n"
     ]
    },
    {
     "data": {
      "image/png": "[encoded data removed]",
      "text/plain": [
       "<Figure size 640x480 with 1 Axes>"
      ]
     },
     "metadata": {},
     "output_type": "display_data"
    }
   ],
   "source": [
    "active_arcs = [a for a in A if x[a].x > 0.99]\n",
    "\n",
    "print(active_arcs)\n",
    "plt.scatter(xc[1:n], yc[1:n], c = 'b')\n",
    "plt.scatter(xc[n+2:],yc[n+2:], c= 'black')\n",
    "plt.scatter(xc[0], yc[0], c='r')\n",
    "\n",
    "# plt.title('Optimal route with %s as max weight'%C, fontsize = 20)\n",
    "for i in I_depo_dest:\n",
    "    plt.annotate('$q_%d = %d$' % (i,q[i]), (xc[i]-5, yc[i]+5))\n",
    "    # plt.annotate('$q_%d = %d$' % (i,y[i]), (xc[i]-5, yc[i]+5))\n",
    "# number_of_vehicles=0\n",
    "# for i,j,k in active_arcs:\n",
    "#     if(i==0):\n",
    "#        plt.plot([xc[i],xc[j]], [yc[i], yc[j]], c = 'g')\n",
    "plt.show()\n",
    "# print(number_of_vehicles)"
   ]
  },
  {
   "cell_type": "code",
   "execution_count": 60,
   "metadata": {},
   "outputs": [
    {
     "name": "stdout",
     "output_type": "stream",
     "text": [
      "128.86461069196858\n",
      "205.20714940038624\n",
      "266.0108318200126\n"
     ]
    }
   ],
   "source": [
    "values = {}\n",
    "sum=0\n",
    "vehicle_dist={}\n",
    "for i,j,k in active_arcs:\n",
    "    sum+=(c[i,j])\n",
    "    if(k not in vehicle_dist):\n",
    "      vehicle_dist[k]=c[i,j]\n",
    "    else:\n",
    "         vehicle_dist[k]+=c[i,j]\n",
    "    if i!=0:\n",
    "        values[i]=(j,k)\n",
    "for i in vehicle_dist.values():\n",
    "     print(i)\n",
    "colors = ['magenta', 'green', 'red', 'yellow', 'cyan']\n",
    "def rec(i, j,k,col):\n",
    "        print((i,j,k))\n",
    "        plt.plot([xc[i],xc[j]], [yc[i], yc[j]], c = colors[col])\n",
    "        if(j==n+1):\n",
    "             return\n",
    "        print(\"aman\")\n",
    "        print(values[j][0])\n",
    "        rec(j,values[j][0],values[j][1],col)\n"
   ]
  },
  {
   "cell_type": "code",
   "execution_count": 57,
   "metadata": {},
   "outputs": [
    {
     "ename": "KeyError",
     "evalue": "(0, 17)",
     "output_type": "error",
     "traceback": [
      "\u001b[1;31m---------------------------------------------------------------------------\u001b[0m",
      "\u001b[1;31mKeyError\u001b[0m                                  Traceback (most recent call last)",
      "\u001b[1;32ma:\\Midsem_Eval\\Codes\\fifth_version.ipynb Cell 13\u001b[0m line \u001b[0;36m1\n\u001b[1;32m----> <a href='vscode-notebook-cell:/a%3A/Midsem_Eval/Codes/fifth_version.ipynb#X15sZmlsZQ%3D%3D?line=0'>1</a>\u001b[0m \u001b[39mprint\u001b[39m(c[\u001b[39m0\u001b[39;49m,\u001b[39m17\u001b[39;49m])\n\u001b[0;32m      <a href='vscode-notebook-cell:/a%3A/Midsem_Eval/Codes/fifth_version.ipynb#X15sZmlsZQ%3D%3D?line=1'>2</a>\u001b[0m \u001b[39mprint\u001b[39m(c[\u001b[39m0\u001b[39m,\u001b[39m6\u001b[39m])\n\u001b[0;32m      <a href='vscode-notebook-cell:/a%3A/Midsem_Eval/Codes/fifth_version.ipynb#X15sZmlsZQ%3D%3D?line=2'>3</a>\u001b[0m \u001b[39mprint\u001b[39m(c[\u001b[39m0\u001b[39m,\u001b[39m6\u001b[39m]\u001b[39m*\u001b[39m\u001b[39m51\u001b[39m)\n",
      "\u001b[1;31mKeyError\u001b[0m: (0, 17)"
     ]
    }
   ],
   "source": [
    "print(c[0,17])\n",
    "print(c[0,6])\n",
    "print(c[0,6]*51)\n",
    "# print(c[0,5]*h[5].X)"
   ]
  },
  {
   "cell_type": "code",
   "execution_count": 61,
   "metadata": {},
   "outputs": [
    {
     "name": "stdout",
     "output_type": "stream",
     "text": [
      "[(0, 3, 4), (0, 7, 1), (0, 9, 5), (1, 4, 5), (2, 5, 1), (3, 6, 4), (4, 10, 5), (5, 8, 1), (7, 2, 1), (8, 6, 1), (9, 1, 5), (10, 6, 5)]\n",
      "(0, 3, 4)\n",
      "aman\n",
      "6\n",
      "(3, 6, 4)\n",
      "(0, 7, 1)\n",
      "aman\n",
      "2\n",
      "(7, 2, 1)\n",
      "aman\n",
      "5\n",
      "(2, 5, 1)\n",
      "aman\n",
      "8\n",
      "(5, 8, 1)\n",
      "aman\n",
      "6\n",
      "(8, 6, 1)\n",
      "(0, 9, 5)\n",
      "aman\n",
      "1\n",
      "(9, 1, 5)\n",
      "aman\n",
      "4\n",
      "(1, 4, 5)\n",
      "aman\n",
      "10\n",
      "(4, 10, 5)\n",
      "aman\n",
      "6\n",
      "(10, 6, 5)\n"
     ]
    },
    {
     "data": {
      "image/png": "[encoded data removed]",
      "text/plain": [
       "<Figure size 640x480 with 1 Axes>"
      ]
     },
     "metadata": {},
     "output_type": "display_data"
    }
   ],
   "source": [
    "active_arcs = [a for a in A if x[a].x > 0.99]\n",
    "\n",
    "print(active_arcs)\n",
    "plt.scatter(xc[1:n], yc[1:n], c = 'b')\n",
    "plt.scatter(xc[n+2:],yc[n+2:], c= 'black')\n",
    "plt.scatter(xc[0], yc[0], c='r')\n",
    "\n",
    "# plt.title('Optimal route with %s as max weight'%C, fontsize = 20)\n",
    "visited = []\n",
    "for i in I:\n",
    "    if(xc[i] not in visited):\n",
    "      plt.annotate('$q_%d = %d$' % (i,q[i]), (xc[i]-2, yc[i]+2))\n",
    "      visited.append(xc[i])\n",
    "    # plt.annotate('$q_%d = %d$' % (i,y[i]), (xc[i]-5, yc[i]+5))\n",
    "# import random\n",
    "\n",
    "# number_of_vehicles=0\n",
    "col=0\n",
    "# print(type(active_arcs))\n",
    "for i,j,k in active_arcs:\n",
    "    if(i==0):\n",
    "        rec(i,j,k,col)\n",
    "        col+=1\n",
    "plt.show()\n",
    "# print(number_of_vehicles)"
   ]
  }
 ],
 "metadata": {
  "kernelspec": {
   "display_name": "Python 3",
   "language": "python",
   "name": "python3"
  },
  "language_info": {
   "codemirror_mode": {
    "name": "ipython",
    "version": 3
   },
   "file_extension": ".py",
   "mimetype": "text/x-python",
   "name": "python",
   "nbconvert_exporter": "python",
   "pygments_lexer": "ipython3",
   "version": "3.9.8"
  }
 },
 "nbformat": 4,
 "nbformat_minor": 2
}
