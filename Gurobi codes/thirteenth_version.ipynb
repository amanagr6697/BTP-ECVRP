{
 "cells": [
  {
   "cell_type": "code",
   "execution_count": 196,
   "metadata": {},
   "outputs": [
    {
     "name": "stdout",
     "output_type": "stream",
     "text": [
      "Requirement already satisfied: gurobipy in c:\\users\\agraw\\appdata\\local\\programs\\python\\python39\\lib\\site-packages (10.0.3)\n",
      "Note: you may need to restart the kernel to use updated packages.\n"
     ]
    }
   ],
   "source": [
    "%pip install gurobipy\n",
    "import numpy as np\n",
    "import matplotlib.pyplot as plt"
   ]
  },
  {
   "cell_type": "code",
   "execution_count": 197,
   "metadata": {},
   "outputs": [],
   "source": [
    "rnd = np.random\n",
    "rnd.seed(51)"
   ]
  },
  {
   "cell_type": "code",
   "execution_count": 198,
   "metadata": {},
   "outputs": [],
   "source": [
    "n = 6  # number of clients\n",
    "f = 3  # number of charging stations\n",
    "num_points = n + f + 1\n",
    "\n",
    "# Generate random coordinates for xc and yc\n",
    "xc = np.random.rand(num_points) * 200\n",
    "yc = np.random.rand(num_points) * 100\n",
    "\n",
    "# Randomly select f points from the generated points\n",
    "selected_indices = np.random.choice(num_points, f, replace=False)\n",
    "selected_xc = xc[selected_indices]\n",
    "selected_yc = yc[selected_indices]\n",
    "\n",
    "# Remove the selected points from xc and yc\n",
    "xc = np.delete(xc, selected_indices)\n",
    "yc = np.delete(yc, selected_indices)\n",
    "xc=np.append(xc,xc[0])\n",
    "yc=np.append(yc,yc[0])\n",
    "\n",
    "# print(xc)\n",
    "# print(yc)\n",
    "num_of_copies = 2\n",
    "# Append copies of each selected point after the first n points\n",
    "for i in range(f):\n",
    "    for _ in range(num_of_copies):\n",
    "        xc = np.append(xc, selected_xc[i])\n",
    "        yc = np.append(yc, selected_yc[i])\n",
    "# print(\"Remaining xc:\", xc)\n",
    "# print(\"Remaining yc:\", yc)"
   ]
  },
  {
   "cell_type": "code",
   "execution_count": 199,
   "metadata": {},
   "outputs": [
    {
     "name": "stdout",
     "output_type": "stream",
     "text": [
      "14\n"
     ]
    },
    {
     "data": {
      "image/png": "[encoded data removed]",
      "text/plain": [
       "<Figure size 640x480 with 1 Axes>"
      ]
     },
     "metadata": {},
     "output_type": "display_data"
    }
   ],
   "source": [
    "plt.plot(xc[0], yc[0], c='r', marker='s')\n",
    "plt.scatter(xc[1:], yc[1:], c='b')\n",
    "print(len(xc))"
   ]
  },
  {
   "cell_type": "code",
   "execution_count": 200,
   "metadata": {},
   "outputs": [
    {
     "name": "stdout",
     "output_type": "stream",
     "text": [
      "33.23809523809524\n"
     ]
    }
   ],
   "source": [
    "I = [i for i in range(1, n+1)] #Number of nodes/locations\n",
    "F = [i for i in range(n+2,n+2+num_of_copies*f)]\n",
    "N = I + F\n",
    "F_depo = [0] + F\n",
    "I_depo = [0] + N\n",
    "I_dest = N + [n+1]\n",
    "I_depo_dest = N + [0] + [n+1]\n",
    "# print(I_dest)\n",
    "num_of_vehicles = 5\n",
    "K = [i for i in range(1,num_of_vehicles+1)]\n",
    "A = [(i, j, k) for i in I_depo for j in I_dest for k in K if i != j] \n",
    "dist = [(i, j) for i in I_depo for j in I_dest if i != j] \n",
    "total_with_vehicles = [(i,k) for i in I_depo_dest for k in K]\n",
    "# print(\"aman\")\n",
    "# print(K)\n",
    "c = {(i, j): np.hypot(xc[i]-xc[j], yc[i]-yc[j]) for i, j in dist} \n",
    "\n",
    "lb = 14\n",
    "ub = 20\n",
    "C = {k: rnd.randint(lb, ub) for k in K}\n",
    "\n",
    "S = 0.002  \n",
    "thresholds = [50, 100, 150, 200]\n",
    "multipliers = [1.0, 1.19, 1.29, 1.39, 1.49]\n",
    "ranges=4\n",
    "t = {}\n",
    "\n",
    "for i, j, k in A:\n",
    "    avg_value = c[i,j]\n",
    "    if(c[i,j]<thresholds[0]):\n",
    "        for k in K:\n",
    "                t[i, j, k] = C[k] *S* multipliers[0]*c[i,j]\n",
    "    elif(c[i,j]<=200):\n",
    "         for x in range(0,ranges-1):\n",
    "              if(c[i,j]>=thresholds[x] and c[i,j]<=thresholds[x+1]):\n",
    "                           for k in K:\n",
    "                               t[i, j, k] = C[k] *S* multipliers[x+1]*c[i,j]\n",
    "    else:\n",
    "         for k in K:\n",
    "                t[i, j, k] = C[k] *S* multipliers[ranges-1]*c[i,j]\n",
    "\n",
    "time_variables = [(i,k) for i in F for k in K]\n",
    "q = {i: rnd.randint(1, 10) for i in N}\n",
    "# for _ in range()\n",
    "Q = 500\n",
    "H = 50 \n",
    "max_value = max(c.values())\n",
    "Q = H*1.1*max_value\n",
    "q[0]=0\n",
    "\n",
    "#Includes different charging times:\n",
    "# 0-30 at a rate of 3500/hour\n",
    "# 30-50 at a rate of 300/hour\n",
    "# 50-80 at a rate of 250/hour\n",
    "# 80-100 at a rate of 200/hour\n",
    "Q=10000\n",
    "full_charging_time = Q*(0.3/350 + 0.2/300 + 0.2/250 + 0.2/200)\n",
    "print(full_charging_time)\n",
    "for i in range(n+1,n+2+num_of_copies*f):\n",
    "    q[i] = 0\n",
    "max_dist_limit = 290\n",
    "max_time_limit = 100"
   ]
  },
  {
   "cell_type": "code",
   "execution_count": 201,
   "metadata": {},
   "outputs": [
    {
     "name": "stdout",
     "output_type": "stream",
     "text": [
      "Set parameter MIPGap to value 0.1\n",
      "Set parameter TimeLimit to value 100\n",
      "Gurobi Optimizer version 10.0.3 build v10.0.3rc0 (win64)\n",
      "\n",
      "CPU model: Intel(R) Core(TM) i7-6500U CPU @ 2.50GHz, instruction set [SSE2|AVX|AVX2]\n",
      "Thread count: 2 physical cores, 4 logical processors, using up to 4 threads\n",
      "\n",
      "Optimize a model with 1732 rows, 1780 columns and 7010 nonzeros\n",
      "Model fingerprint: 0xc5fb1d8d\n",
      "Model has 785 quadratic objective terms\n",
      "Model has 790 quadratic constraints\n",
      "Variable types: 995 continuous, 785 integer (785 binary)\n",
      "Coefficient statistics:\n",
      "  Matrix range     [5e-02, 2e+02]\n",
      "  QMatrix range    [1e+00, 2e+02]\n",
      "  QLMatrix range   [1e+00, 1e+04]\n",
      "  Objective range  [1e+01, 2e+02]\n",
      "  QObjective range [2e+00, 2e+00]\n",
      "  Bounds range     [1e+00, 1e+04]\n",
      "  RHS range        [1e+00, 1e+04]\n",
      "  QRHS range       [1e+02, 1e+04]\n",
      "Presolve removed 297 rows and 272 columns\n",
      "Presolve time: 0.10s\n",
      "Presolved: 3390 rows, 2808 columns, 16659 nonzeros\n",
      "Variable types: 2040 continuous, 768 integer (733 binary)\n",
      "\n",
      "Root relaxation: objective 2.685702e+02, 151 iterations, 0.01 seconds (0.00 work units)\n",
      "\n",
      "    Nodes    |    Current Node    |     Objective Bounds      |     Work\n",
      " Expl Unexpl |  Obj  Depth IntInf | Incumbent    BestBd   Gap | It/Node Time\n",
      "\n",
      "     0     0  268.57025    0   12          -  268.57025      -     -    0s\n",
      "     0     0  268.57025    0   12          -  268.57025      -     -    0s\n",
      "     0     0  268.57025    0   12          -  268.57025      -     -    0s\n",
      "     0     0  287.05473    0   14          -  287.05473      -     -    0s\n",
      "     0     0  287.05473    0   14          -  287.05473      -     -    0s\n",
      "     0     0  288.80541    0   14          -  288.80541      -     -    0s\n",
      "     0     0  288.80541    0   14          -  288.80541      -     -    0s\n",
      "     0     0  306.43390    0   17          -  306.43390      -     -    0s\n",
      "     0     0  312.85071    0   18          -  312.85071      -     -    0s\n",
      "     0     0  318.18389    0   24          -  318.18389      -     -    0s\n",
      "     0     0  318.18389    0   24          -  318.18389      -     -    0s\n",
      "     0     0  328.66839    0   14          -  328.66839      -     -    0s\n",
      "     0     0  338.20094    0   19          -  338.20094      -     -    0s\n",
      "     0     0  340.07413    0   14          -  340.07413      -     -    0s\n",
      "     0     0  340.55077    0   14          -  340.55077      -     -    0s\n",
      "     0     0  340.55077    0   14          -  340.55077      -     -    0s\n",
      "     0     0  340.56610    0   21          -  340.56610      -     -    0s\n",
      "     0     0  341.21174    0   14          -  341.21174      -     -    0s\n",
      "     0     0  341.21174    0   14          -  341.21174      -     -    0s\n",
      "     0     2  341.73354    0   14          -  341.73354      -     -    1s\n",
      "   839   554  539.32825   24   77          -  421.74418      -  16.1    5s\n",
      "  1350   674  499.18105   36   18          -  443.83983      -  32.6   10s\n",
      "  2658   621 infeasible   39               -  497.21306      -  38.9   15s\n",
      "  4709  1163 infeasible   74               -  518.51284      -  40.9   20s\n",
      "  6426  1459  576.20602   57   18          -  542.65112      -  42.0   25s\n",
      "  8457  1682 infeasible   74               -  563.42073      -  42.4   30s\n",
      " 10174  1626  736.00303   84   12          -  591.32221      -  42.6   35s\n",
      " 11883  1648 infeasible   45               -  628.74902      -  43.3   41s\n",
      " 13800  1516  739.85562   66    9          -  654.34575      -  43.1   45s\n",
      " 15990  1352 infeasible  100               -  689.83207      -  43.2   50s\n",
      " 18106  1047 infeasible   78               -  719.75407      -  43.0   55s\n",
      " 20072   485  807.25357   66    8          -  776.22254      -  43.0   60s\n",
      "\n",
      "Cutting planes:\n",
      "  Learned: 20\n",
      "  Gomory: 1\n",
      "  Lift-and-project: 4\n",
      "  Implied bound: 144\n",
      "  Projected implied bound: 3\n",
      "  MIR: 41\n",
      "  StrongCG: 1\n",
      "  Flow cover: 221\n",
      "  Zero half: 7\n",
      "  Mod-K: 2\n",
      "  RLT: 59\n",
      "  Relax-and-lift: 18\n",
      "\n",
      "Explored 21815 nodes (925625 simplex iterations) in 62.95 seconds (43.34 work units)\n",
      "Thread count was 4 (of 4 available processors)\n",
      "\n",
      "Solution count 0\n",
      "\n",
      "Model is infeasible or unbounded\n",
      "Best objective -, best bound -, gap -\n"
     ]
    }
   ],
   "source": [
    "from gurobipy import Model, GRB, quicksum\n",
    "\n",
    "model = Model('ECVRP')\n",
    "x = model.addVars(A, vtype=GRB.BINARY, name='x')\n",
    "u = model.addVars(total_with_vehicles, vtype=GRB.CONTINUOUS,lb=0.0, name='u')\n",
    "y = model.addVars(total_with_vehicles, vtype=GRB.CONTINUOUS,lb=0.0, ub=Q, name='y')\n",
    "h = model.addVars(total_with_vehicles, vtype=GRB.CONTINUOUS, name='h')\n",
    "time = model.addVars(A,vtype=GRB.CONTINUOUS, lb=0.0, name='t')\n",
    "\n",
    "for i,k in u.keys():\n",
    "    u[i,k].ub = C[k]\n",
    "    u[i,k].lb = 0\n",
    "\n",
    "\n",
    "model.modelSense = GRB.MINIMIZE\n",
    "# u[0].setAttr(GRB.Attr.LB, C)\n",
    "# u[0].setAttr(GRB.Attr.UB, C)\n",
    "# y[0].setAttr(GRB.Attr.LB, Q)\n",
    "# y[0].setAttr(GRB.Attr.UB, Q)\n",
    "model.setObjective(quicksum(x[i, j, k]*(c[i, j]+time[i,j,k]) for i, j, k in A) + quicksum(x[i,j,k]*(full_charging_time) for i in I_depo for j in F if i!=j for k in K))\n",
    "model.addConstrs((quicksum(x[i, j, k] for k in K for j in I_dest if i!=j) == 1 for i in I), name='outgoing')\n",
    "model.addConstrs((quicksum(x[i, j, k] for k in K for j in I_dest if i!=j) <= 1 for i in F), name='charging_outgoing')\n",
    "model.addConstrs((quicksum(x[0, j, k] for j in N) <= 1 for k in K), name='charging_outgoing')\n",
    "model.addConstrs((quicksum(x[i, j, k] for i in I_depo if i!=j)-quicksum(x[j,i,k] for i in I_dest if i!=j) == 0 for j in N for k in K), name='blockage')\n",
    "model.addConstrs((u[j,k]<=u[i,k]-q[i]*x[i,j,k]+ C[k]*(1-x[i,j,k]) for i in I_depo for j in I_dest if i!=j for k in K), name='weight_transfer')\n",
    "model.addConstrs(quicksum(x[i,j,k]*c[i,j] for i in I_depo for j in I_dest if i!=j)<=max_dist_limit for k in K)\n",
    "model.addConstrs((quicksum(x[i,j,k]*time[i,j,k] for i in I_depo for j in I_dest if i!=j) + quicksum(x[i,j,k]*(full_charging_time) for i in I_depo for j in F if i!=j))<=max_time_limit for k in K)\n",
    "\n",
    "# model.addConstrs((u[i]>=0 for i in I_dest), name='weight_lower_bound')\n",
    "# model.addConstrs((u[0]<=C), name='weight_upper_bound')\n",
    "\n",
    "Temp = 323\n",
    "theta = 0.1\n",
    "H = H*0.8 + Temp*(theta)\n",
    "model.addConstrs(h[i,k] == H + u[i,k] / C[k] for i in I_depo_dest for k in K)\n",
    "model.addConstrs(time[i,j,k] == t[i,j,k]*u[i,k] for i in I_depo for j in I_dest if i!=j for k in K)\n",
    "model.addConstrs((y[j,k]<=y[i,k]-h[i,k]*c[i,j]*x[i,j,k]+Q*(1-x[i,j,k]) for i in I for j in  I_dest  if i!=j for k in K), name = 'charge_left')\n",
    "model.addConstrs((y[j,k]<=Q-h[i,k]*c[i,j]*x[i,j,k] for i in F_depo for j in I_dest  if i!=j for k in K), name='after leaving from charging station')\n",
    "# model.addConstrs((y[i]>=0 for i in I_dest), name='charge_lower_bound')\n",
    "# model.addConstrs((y[i]<=Q for i in N), name='charge_upper_bound')\n",
    "# model.addConstr(u[0]==C, name='Specifying_constant_weight')\n",
    "model.addConstrs((u[0,k]==C[k] for k in K), name='Specifying_constant_weight')\n",
    "model.addConstrs((y[0,k]==Q for k in K), name='Specifying_constant_charge')\n",
    "model.Params.MIPGap = 0.1\n",
    "model.Params.TimeLimit = 100  # seconds\n",
    "model.optimize()\n",
    "# optimal path -  active paths\n"
   ]
  },
  {
   "cell_type": "code",
   "execution_count": 202,
   "metadata": {},
   "outputs": [
    {
     "name": "stdout",
     "output_type": "stream",
     "text": [
      "Warning: Q constraint 0 doesn't have a name\n"
     ]
    }
   ],
   "source": [
    "# model.computeIIS()\n",
    "model.write(\"model10.lp\")"
   ]
  },
  {
   "cell_type": "code",
   "execution_count": 203,
   "metadata": {},
   "outputs": [],
   "source": [
    "# for var_name in u:\n",
    "#     u_var = u[var_name]\n",
    "#     print(f\"{var_name} = {u_var.X}\")"
   ]
  },
  {
   "cell_type": "code",
   "execution_count": 204,
   "metadata": {},
   "outputs": [],
   "source": [
    "# for var_name in h:\n",
    "#     h_var = h[var_name]\n",
    "#     print(f\"{var_name} = {h_var.X}\")"
   ]
  },
  {
   "cell_type": "code",
   "execution_count": 205,
   "metadata": {},
   "outputs": [],
   "source": [
    "# for var_name in y:\n",
    "#     y_var = y[var_name]\n",
    "#     print(f\"{var_name} = {y_var.X}\")"
   ]
  },
  {
   "cell_type": "code",
   "execution_count": 206,
   "metadata": {},
   "outputs": [
    {
     "name": "stdout",
     "output_type": "stream",
     "text": [
      "(0, 1, 1)\n"
     ]
    },
    {
     "ename": "AttributeError",
     "evalue": "Unable to retrieve attribute 'X'",
     "output_type": "error",
     "traceback": [
      "\u001b[1;31m---------------------------------------------------------------------------\u001b[0m",
      "\u001b[1;31mAttributeError\u001b[0m                            Traceback (most recent call last)",
      "\u001b[1;32ma:\\Midsem_Eval\\Codes\\thirteenth_version.ipynb Cell 11\u001b[0m line \u001b[0;36m4\n\u001b[0;32m      <a href='vscode-notebook-cell:/a%3A/Midsem_Eval/Codes/thirteenth_version.ipynb#X16sZmlsZQ%3D%3D?line=1'>2</a>\u001b[0m time_var \u001b[39m=\u001b[39m time[var_name]\n\u001b[0;32m      <a href='vscode-notebook-cell:/a%3A/Midsem_Eval/Codes/thirteenth_version.ipynb#X16sZmlsZQ%3D%3D?line=2'>3</a>\u001b[0m \u001b[39mprint\u001b[39m(var_name)\n\u001b[1;32m----> <a href='vscode-notebook-cell:/a%3A/Midsem_Eval/Codes/thirteenth_version.ipynb#X16sZmlsZQ%3D%3D?line=3'>4</a>\u001b[0m \u001b[39mprint\u001b[39m(\u001b[39mf\u001b[39m\u001b[39m\"\u001b[39m\u001b[39m{\u001b[39;00mvar_name\u001b[39m}\u001b[39;00m\u001b[39m = \u001b[39m\u001b[39m{\u001b[39;00mtime_var\u001b[39m.\u001b[39mX\u001b[39m}\u001b[39;00m\u001b[39m\"\u001b[39m)\n",
      "File \u001b[1;32msrc\\gurobipy\\var.pxi:125\u001b[0m, in \u001b[0;36mgurobipy.Var.__getattr__\u001b[1;34m()\u001b[0m\n",
      "File \u001b[1;32msrc\\gurobipy\\var.pxi:153\u001b[0m, in \u001b[0;36mgurobipy.Var.getAttr\u001b[1;34m()\u001b[0m\n",
      "File \u001b[1;32msrc\\gurobipy\\attrutil.pxi:100\u001b[0m, in \u001b[0;36mgurobipy.__getattr\u001b[1;34m()\u001b[0m\n",
      "\u001b[1;31mAttributeError\u001b[0m: Unable to retrieve attribute 'X'"
     ]
    }
   ],
   "source": [
    "for var_name in time:\n",
    "    time_var = time[var_name]\n",
    "    print(var_name)\n",
    "    print(f\"{var_name} = {time_var.X}\")"
   ]
  },
  {
   "cell_type": "code",
   "execution_count": null,
   "metadata": {},
   "outputs": [
    {
     "name": "stdout",
     "output_type": "stream",
     "text": [
      "21.13320697045231 aman\n",
      "45.78386586537912 aman\n",
      "4.495930232158549 aman\n",
      "7.276657728360191 aman\n",
      "10.159497548677237 aman\n",
      "10.041601395301182 aman\n",
      "13.799492113348013 aman\n",
      "16.132530352119893 aman\n",
      "0.0 aman\n",
      "10.159497548677233 aman\n",
      "36.56264181739154\n",
      "53.28786268928412\n",
      "9.859496123154713\n",
      "26.75241811897129\n",
      "56.167058539790126\n",
      "49.22353625147642\n",
      "23.874553829321826\n",
      "22.344224864431983\n",
      "81.55958657414098\n",
      "56.167058539790126\n"
     ]
    },
    {
     "data": {
      "image/png": "[encoded data removed]",
      "text/plain": [
       "<Figure size 640x480 with 1 Axes>"
      ]
     },
     "metadata": {},
     "output_type": "display_data"
    }
   ],
   "source": [
    "active_arcs = [a for a in A if x[a].x > 0.99]\n",
    "\n",
    "for a in active_arcs:\n",
    "    print(time[a].X, \"aman\")\n",
    "for a in active_arcs:\n",
    "    print(c[a[0],a[1]])\n",
    "# print(active_arcs)\n",
    "plt.scatter(xc[1:n], yc[1:n], c = 'b')\n",
    "plt.scatter(xc[n+2:],yc[n+2:], c= 'black')\n",
    "plt.scatter(xc[0], yc[0], c='r')\n",
    "\n",
    "# plt.title('Optimal route with %s as max weight'%C, fontsize = 20)\n",
    "for i in I_depo_dest:\n",
    "    plt.annotate('$q_%d = %d$' % (i,q[i]), (xc[i]-5, yc[i]+5))\n",
    "    # plt.annotate('$q_%d = %d$' % (i,y[i]), (xc[i]-5, yc[i]+5))\n",
    "# number_of_vehicles=0\n",
    "# for i,j,k in active_arcs:\n",
    "#     if(i==0):\n",
    "#        plt.plot([xc[i],xc[j]], [yc[i], yc[j]], c = 'g')\n",
    "plt.show()\n",
    "# print(number_of_vehicles)"
   ]
  },
  {
   "cell_type": "code",
   "execution_count": null,
   "metadata": {},
   "outputs": [
    {
     "name": "stdout",
     "output_type": "stream",
     "text": [
      "136.41315001716106\n",
      "279.38528733059206\n",
      "52.25095820746169\n",
      "86.73132154701203\n"
     ]
    }
   ],
   "source": [
    "values = {}\n",
    "vehicle_dist={}\n",
    "vehicle_time={}\n",
    "for i,j,k in active_arcs:\n",
    "    if(k not in vehicle_dist):\n",
    "      vehicle_dist[k] = c[i,j]\n",
    "      vehicle_time[k] = time[i,j,k].X\n",
    "    else:\n",
    "         vehicle_dist[k]+=c[i,j]\n",
    "         vehicle_time[k]+=time[i,j,k].X\n",
    "\n",
    "    if i!=0:\n",
    "        values[i]=(j,k)\n",
    "for i in vehicle_dist.values():\n",
    "     print(i)\n",
    "\n",
    "for i in vehicle_time.values():\n",
    "     print(i)\n",
    "colors = ['magenta', 'green', 'red', 'yellow', 'cyan']\n",
    "def rec(i, j,k,col):\n",
    "     #    print((i,j,k))\n",
    "        plt.plot([xc[i],xc[j]], [yc[i], yc[j]], c = colors[col])\n",
    "        if(j==n+1):\n",
    "             return\n",
    "     #    print(\"aman\")\n",
    "     #    print(values[j][0])\n",
    "        rec(j,values[j][0],values[j][1],col)\n"
   ]
  },
  {
   "cell_type": "code",
   "execution_count": null,
   "metadata": {},
   "outputs": [
    {
     "data": {
      "image/png": "[encoded data removed]",
      "text/plain": [
       "<Figure size 640x480 with 1 Axes>"
      ]
     },
     "metadata": {},
     "output_type": "display_data"
    }
   ],
   "source": [
    "active_arcs = [a for a in A if x[a].x > 0.99]\n",
    "\n",
    "# print(active_arcs)\n",
    "plt.scatter(xc[1:n], yc[1:n], c = 'b')\n",
    "plt.scatter(xc[n+2:],yc[n+2:], c= 'black')\n",
    "plt.scatter(xc[0], yc[0], c='r')\n",
    "\n",
    "# plt.title('Optimal route with %s as max weight'%C, fontsize = 20)\n",
    "visited = []\n",
    "for i in I:\n",
    "    if(xc[i] not in visited):\n",
    "      plt.annotate('$q_%d = %d$' % (i,q[i]), (xc[i]-2, yc[i]+2))\n",
    "      visited.append(xc[i])\n",
    "    # plt.annotate('$q_%d = %d$' % (i,y[i]), (xc[i]-5, yc[i]+5))\n",
    "# import random\n",
    "\n",
    "# number_of_vehicles=0\n",
    "col=0\n",
    "# print(type(active_arcs))\n",
    "for i,j,k in active_arcs:\n",
    "    if(i==0):\n",
    "        rec(i,j,k,col)\n",
    "        col+=1\n",
    "plt.show()\n",
    "# print(number_of_vehicles)"
   ]
  }
 ],
 "metadata": {
  "kernelspec": {
   "display_name": "Python 3",
   "language": "python",
   "name": "python3"
  },
  "language_info": {
   "codemirror_mode": {
    "name": "ipython",
    "version": 3
   },
   "file_extension": ".py",
   "mimetype": "text/x-python",
   "name": "python",
   "nbconvert_exporter": "python",
   "pygments_lexer": "ipython3",
   "version": "3.9.8"
  }
 },
 "nbformat": 4,
 "nbformat_minor": 2
}
